{
 "cells": [
  {
   "cell_type": "code",
   "execution_count": null,
   "id": "ce7a2cbf-12b1-48e9-89f0-203ad6873704",
   "metadata": {},
   "outputs": [],
   "source": []
  }
 ],
 "metadata": {
  "kernelspec": {
   "display_name": "",
   "name": ""
  },
  "language_info": {
   "name": ""
  }
 },
 "nbformat": 4,
 "nbformat_minor": 5
}
