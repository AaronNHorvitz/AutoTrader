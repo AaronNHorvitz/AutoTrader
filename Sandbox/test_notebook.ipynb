{
 "cells": [
  {
   "cell_type": "code",
   "execution_count": 9,
   "metadata": {},
   "outputs": [],
   "source": [
    "import pandas as pd\n",
    "import requests "
   ]
  },
  {
   "cell_type": "markdown",
   "metadata": {},
   "source": [
    "## Pull NASDAQ Stock Tickers"
   ]
  },
  {
   "cell_type": "code",
   "execution_count": 12,
   "metadata": {},
   "outputs": [
    {
     "data": {
      "text/html": [
       "<div>\n",
       "<style scoped>\n",
       "    .dataframe tbody tr th:only-of-type {\n",
       "        vertical-align: middle;\n",
       "    }\n",
       "\n",
       "    .dataframe tbody tr th {\n",
       "        vertical-align: top;\n",
       "    }\n",
       "\n",
       "    .dataframe thead th {\n",
       "        text-align: right;\n",
       "    }\n",
       "</style>\n",
       "<table border=\"1\" class=\"dataframe\">\n",
       "  <thead>\n",
       "    <tr style=\"text-align: right;\">\n",
       "      <th></th>\n",
       "      <th>ticker</th>\n",
       "      <th>name</th>\n",
       "    </tr>\n",
       "  </thead>\n",
       "  <tbody>\n",
       "    <tr>\n",
       "      <th>0</th>\n",
       "      <td>A</td>\n",
       "      <td>Agilent Technologies Inc. Common Stock</td>\n",
       "    </tr>\n",
       "    <tr>\n",
       "      <th>1</th>\n",
       "      <td>AA</td>\n",
       "      <td>Alcoa Corporation Common Stock</td>\n",
       "    </tr>\n",
       "    <tr>\n",
       "      <th>2</th>\n",
       "      <td>AACBU</td>\n",
       "      <td>Artius II Acquisition Inc. Units</td>\n",
       "    </tr>\n",
       "    <tr>\n",
       "      <th>3</th>\n",
       "      <td>AACG</td>\n",
       "      <td>ATA Creativity Global American Depositary Shares</td>\n",
       "    </tr>\n",
       "    <tr>\n",
       "      <th>4</th>\n",
       "      <td>AACT</td>\n",
       "      <td>Ares Acquisition Corporation II Class A Ordina...</td>\n",
       "    </tr>\n",
       "  </tbody>\n",
       "</table>\n",
       "</div>"
      ],
      "text/plain": [
       "  ticker                                               name\n",
       "0      A             Agilent Technologies Inc. Common Stock\n",
       "1     AA                    Alcoa Corporation Common Stock \n",
       "2  AACBU                   Artius II Acquisition Inc. Units\n",
       "3   AACG   ATA Creativity Global American Depositary Shares\n",
       "4   AACT  Ares Acquisition Corporation II Class A Ordina..."
      ]
     },
     "metadata": {},
     "output_type": "display_data"
    },
    {
     "data": {
      "text/html": [
       "<div>\n",
       "<style scoped>\n",
       "    .dataframe tbody tr th:only-of-type {\n",
       "        vertical-align: middle;\n",
       "    }\n",
       "\n",
       "    .dataframe tbody tr th {\n",
       "        vertical-align: top;\n",
       "    }\n",
       "\n",
       "    .dataframe thead th {\n",
       "        text-align: right;\n",
       "    }\n",
       "</style>\n",
       "<table border=\"1\" class=\"dataframe\">\n",
       "  <thead>\n",
       "    <tr style=\"text-align: right;\">\n",
       "      <th></th>\n",
       "      <th>ticker</th>\n",
       "      <th>name</th>\n",
       "    </tr>\n",
       "  </thead>\n",
       "  <tbody>\n",
       "    <tr>\n",
       "      <th>6895</th>\n",
       "      <td>ZVSA</td>\n",
       "      <td>ZyVersa Therapeutics Inc. Common Stock</td>\n",
       "    </tr>\n",
       "    <tr>\n",
       "      <th>6896</th>\n",
       "      <td>ZWS</td>\n",
       "      <td>Zurn Elkay Water Solutions Corporation Common ...</td>\n",
       "    </tr>\n",
       "    <tr>\n",
       "      <th>6897</th>\n",
       "      <td>ZYBT</td>\n",
       "      <td>Zhengye Biotechnology Holding Limited Ordinary...</td>\n",
       "    </tr>\n",
       "    <tr>\n",
       "      <th>6898</th>\n",
       "      <td>ZYME</td>\n",
       "      <td>Zymeworks Inc. Common Stock</td>\n",
       "    </tr>\n",
       "    <tr>\n",
       "      <th>6899</th>\n",
       "      <td>ZYXI</td>\n",
       "      <td>Zynex Inc. Common Stock</td>\n",
       "    </tr>\n",
       "  </tbody>\n",
       "</table>\n",
       "</div>"
      ],
      "text/plain": [
       "     ticker                                               name\n",
       "6895   ZVSA             ZyVersa Therapeutics Inc. Common Stock\n",
       "6896    ZWS  Zurn Elkay Water Solutions Corporation Common ...\n",
       "6897   ZYBT  Zhengye Biotechnology Holding Limited Ordinary...\n",
       "6898   ZYME                        Zymeworks Inc. Common Stock\n",
       "6899   ZYXI                            Zynex Inc. Common Stock"
      ]
     },
     "metadata": {},
     "output_type": "display_data"
    }
   ],
   "source": [
    "# NASDAQ API URL (working guess)\n",
    "url = \"https://api.nasdaq.com/api/screener/stocks?tableonly=true&limit=0&offset=0&download=true\"\n",
    "headers = {\"User-Agent\": \"Mozilla/5.0 (Windows NT 10.0; Win64; x64) Chrome/110.0.0.0 Safari/537.36\"}\n",
    "\n",
    "# Fetch JSON data\n",
    "response = requests.get(url, headers=headers)\n",
    "if response.status_code == 200:\n",
    "    json_data = response.json()\n",
    "\n",
    "    # Extract rows into DataFrame\n",
    "    df = pd.DataFrame(json_data[\"data\"][\"rows\"])\n",
    "\n",
    "    # Select ticker and name (add more columns later if needed)\n",
    "    df = df[[\"symbol\", \"name\"]]\n",
    "    df.columns = [\"ticker\", \"name\"]\n",
    "\n",
    "else:\n",
    "    print(f\"Failed: {response.status_code}\")\n",
    "    exit()\n",
    "\n",
    "display(df.head())\n",
    "display(df.tail())"
   ]
  },
  {
   "cell_type": "code",
   "execution_count": 13,
   "metadata": {},
   "outputs": [
    {
     "data": {
      "text/html": [
       "<div>\n",
       "<style scoped>\n",
       "    .dataframe tbody tr th:only-of-type {\n",
       "        vertical-align: middle;\n",
       "    }\n",
       "\n",
       "    .dataframe tbody tr th {\n",
       "        vertical-align: top;\n",
       "    }\n",
       "\n",
       "    .dataframe thead th {\n",
       "        text-align: right;\n",
       "    }\n",
       "</style>\n",
       "<table border=\"1\" class=\"dataframe\">\n",
       "  <thead>\n",
       "    <tr style=\"text-align: right;\">\n",
       "      <th></th>\n",
       "      <th>ticker</th>\n",
       "      <th>name</th>\n",
       "    </tr>\n",
       "  </thead>\n",
       "  <tbody>\n",
       "    <tr>\n",
       "      <th>0</th>\n",
       "      <td>A</td>\n",
       "      <td>Agilent Technologies Inc. Common Stock</td>\n",
       "    </tr>\n",
       "    <tr>\n",
       "      <th>1</th>\n",
       "      <td>AA</td>\n",
       "      <td>Alcoa Corporation Common Stock</td>\n",
       "    </tr>\n",
       "    <tr>\n",
       "      <th>2</th>\n",
       "      <td>AACBU</td>\n",
       "      <td>Artius II Acquisition Inc. Units</td>\n",
       "    </tr>\n",
       "    <tr>\n",
       "      <th>3</th>\n",
       "      <td>AACG</td>\n",
       "      <td>ATA Creativity Global American Depositary Shares</td>\n",
       "    </tr>\n",
       "    <tr>\n",
       "      <th>4</th>\n",
       "      <td>AACT</td>\n",
       "      <td>Ares Acquisition Corporation II Class A Ordina...</td>\n",
       "    </tr>\n",
       "    <tr>\n",
       "      <th>...</th>\n",
       "      <td>...</td>\n",
       "      <td>...</td>\n",
       "    </tr>\n",
       "    <tr>\n",
       "      <th>95</th>\n",
       "      <td>ADC^A</td>\n",
       "      <td>Agree Realty Corporation Depositary Shares eac...</td>\n",
       "    </tr>\n",
       "    <tr>\n",
       "      <th>96</th>\n",
       "      <td>ADCT</td>\n",
       "      <td>ADC Therapeutics SA Common Shares</td>\n",
       "    </tr>\n",
       "    <tr>\n",
       "      <th>97</th>\n",
       "      <td>ADD</td>\n",
       "      <td>Color Star Technology Co. Ltd. Class A Ordinar...</td>\n",
       "    </tr>\n",
       "    <tr>\n",
       "      <th>98</th>\n",
       "      <td>ADEA</td>\n",
       "      <td>Adeia Inc. Common Stock</td>\n",
       "    </tr>\n",
       "    <tr>\n",
       "      <th>99</th>\n",
       "      <td>ADGM</td>\n",
       "      <td>Adagio Medical Holdings Inc Common Stock</td>\n",
       "    </tr>\n",
       "  </tbody>\n",
       "</table>\n",
       "<p>100 rows × 2 columns</p>\n",
       "</div>"
      ],
      "text/plain": [
       "   ticker                                               name\n",
       "0       A             Agilent Technologies Inc. Common Stock\n",
       "1      AA                    Alcoa Corporation Common Stock \n",
       "2   AACBU                   Artius II Acquisition Inc. Units\n",
       "3    AACG   ATA Creativity Global American Depositary Shares\n",
       "4    AACT  Ares Acquisition Corporation II Class A Ordina...\n",
       "..    ...                                                ...\n",
       "95  ADC^A  Agree Realty Corporation Depositary Shares eac...\n",
       "96   ADCT                  ADC Therapeutics SA Common Shares\n",
       "97    ADD  Color Star Technology Co. Ltd. Class A Ordinar...\n",
       "98   ADEA                            Adeia Inc. Common Stock\n",
       "99   ADGM           Adagio Medical Holdings Inc Common Stock\n",
       "\n",
       "[100 rows x 2 columns]"
      ]
     },
     "execution_count": 13,
     "metadata": {},
     "output_type": "execute_result"
    }
   ],
   "source": [
    "df.head(100)"
   ]
  },
  {
   "cell_type": "code",
   "execution_count": 3,
   "metadata": {},
   "outputs": [
    {
     "data": {
      "text/plain": [
       "6900"
      ]
     },
     "execution_count": 3,
     "metadata": {},
     "output_type": "execute_result"
    }
   ],
   "source": [
    "len(df)"
   ]
  },
  {
   "cell_type": "code",
   "execution_count": null,
   "metadata": {},
   "outputs": [],
   "source": []
  }
 ],
 "metadata": {
  "kernelspec": {
   "display_name": "aaron_dev",
   "language": "python",
   "name": "python3"
  },
  "language_info": {
   "codemirror_mode": {
    "name": "ipython",
    "version": 3
   },
   "file_extension": ".py",
   "mimetype": "text/x-python",
   "name": "python",
   "nbconvert_exporter": "python",
   "pygments_lexer": "ipython3",
   "version": "3.10.8"
  }
 },
 "nbformat": 4,
 "nbformat_minor": 2
}
