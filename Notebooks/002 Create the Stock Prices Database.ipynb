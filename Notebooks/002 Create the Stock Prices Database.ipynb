{
 "cells": [
  {
   "cell_type": "code",
   "execution_count": 1,
   "metadata": {},
   "outputs": [],
   "source": [
    "# Import libraries\n",
    "import sys\n",
    "import pandas as pd\n",
    "from alpaca_trade_api.rest import REST\n",
    "from datetime import datetime\n",
    "import sqlite3\n",
    "import time\n",
    "\n",
    "# Add stat_656_autotrader/ to sys.path (~for credentials/)\n",
    "sys.path.append(\"d:/dev/stat_656_autotrader\")\n",
    "\n",
    "# Load Alpaca credentials\n",
    "from credentials import API_KEY, SECRET_KEY, ENDPOINT_URL"
   ]
  },
  {
   "cell_type": "code",
   "execution_count": 3,
   "metadata": {},
   "outputs": [],
   "source": [
    "# Connect to Alpaca\n",
    "alpaca = REST(API_KEY, SECRET_KEY, base_url=ENDPOINT_URL)"
   ]
  },
  {
   "cell_type": "code",
   "execution_count": null,
   "metadata": {},
   "outputs": [],
   "source": []
  }
 ],
 "metadata": {
  "kernelspec": {
   "display_name": "aaron_dev",
   "language": "python",
   "name": "python3"
  },
  "language_info": {
   "codemirror_mode": {
    "name": "ipython",
    "version": 3
   },
   "file_extension": ".py",
   "mimetype": "text/x-python",
   "name": "python",
   "nbconvert_exporter": "python",
   "pygments_lexer": "ipython3",
   "version": "3.10.8"
  }
 },
 "nbformat": 4,
 "nbformat_minor": 2
}
