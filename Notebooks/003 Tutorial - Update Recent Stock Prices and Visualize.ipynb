{
 "cells": [
  {
   "cell_type": "code",
   "execution_count": null,
   "id": "3531b369",
   "metadata": {},
   "outputs": [],
   "source": []
  },
  {
   "cell_type": "markdown",
   "id": "80b9e1f1",
   "metadata": {},
   "source": [
    "# Update Recent Stock Prices and Visualize"
   ]
  },
  {
   "cell_type": "code",
   "execution_count": null,
   "id": "79a1ff21",
   "metadata": {},
   "outputs": [],
   "source": []
  },
  {
   "cell_type": "code",
   "execution_count": null,
   "id": "cca629a0",
   "metadata": {},
   "outputs": [],
   "source": []
  },
  {
   "cell_type": "code",
   "execution_count": null,
   "id": "4b67a835",
   "metadata": {},
   "outputs": [],
   "source": []
  }
 ],
 "metadata": {
  "language_info": {
   "name": "python"
  }
 },
 "nbformat": 4,
 "nbformat_minor": 5
}
