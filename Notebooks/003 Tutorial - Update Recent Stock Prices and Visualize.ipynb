{
 "cells": [
  {
   "cell_type": "code",
   "execution_count": null,
   "id": "3531b369",
   "metadata": {},
   "outputs": [],
   "source": []
  },
  {
   "cell_type": "markdown",
   "id": "80b9e1f1",
   "metadata": {},
   "source": [
    "# Update Recent Stock Prices and Visualize\n",
    "This notebook updates the `assets.db` with the latest stock prices from Alpaca, queries stock prices for a specific ticker over a date range, and plots the OHLC (Open, High, Low, Close) prices with user-selectable smoothing methods (exponential smoothing, LOWESS, or moving average)."
   ]
  },
  {
   "cell_type": "code",
   "execution_count": 1,
   "id": "79a1ff21",
   "metadata": {},
   "outputs": [
    {
     "name": "stdout",
     "output_type": "stream",
     "text": [
      "Project root added to sys.path: d:\\dev\\stat_656_autotrader\n"
     ]
    }
   ],
   "source": [
    "import pandas as pd\n",
    "import sqlite3\n",
    "from datetime import datetime, timedelta  \n",
    "import matplotlib.pyplot as plt\n",
    "import matplotlib.ticker as ticker\n",
    "import numpy as np\n",
    "import statsmodels.api as sm\n",
    "import sys\n",
    "from pathlib import Path\n",
    "import os\n",
    "\n",
    "# Define BASE_DIR and adjust sys.path before importing\n",
    "BASE_DIR = Path(os.getcwd()).parent  # Points to stat_656_autotrader/ from Notebooks/\n",
    "sys.path.append(str(BASE_DIR))\n",
    "print(f\"Project root added to sys.path: {BASE_DIR}\")\n",
    "\n",
    "# Import paths from the config module\n",
    "from src.config import BASE_DIR, DB_DIR\n",
    "from credentials import ALPACA_API_KEY, ALPACA_SECRET_KEY, ALPAKA_ENDPOINT_URL\n",
    "\n",
    "from src.utils.alpaca_utils import connect_to_alpaca, fetch_alpaca_stock_tickers\n",
    "from src.utils.db_utils import get_db_connection, fetch_active_tickers, last_data_date, last_fetch_date, fetch_database_stock_tickers, fetch_price_range\n",
    "from src.visualizations.stock_price_trends import plot_stock_trends_with_intervals\n",
    "from src.statistics.smoothers import smooth_lowess"
   ]
  },
  {
   "cell_type": "code",
   "execution_count": null,
   "id": "345955ad",
   "metadata": {},
   "outputs": [],
   "source": []
  },
  {
   "cell_type": "markdown",
   "id": "9641c39f",
   "metadata": {},
   "source": [
    "# Connect and Fetch Tickers"
   ]
  },
  {
   "cell_type": "code",
   "execution_count": 2,
   "id": "ac6f5707-11d3-4153-818f-cbf5888d307f",
   "metadata": {},
   "outputs": [
    {
     "data": {
      "text/plain": [
       "datetime.date(2025, 4, 15)"
      ]
     },
     "execution_count": 2,
     "metadata": {},
     "output_type": "execute_result"
    }
   ],
   "source": [
    "# Obtainthe last datetime date.\n",
    "last_data_date()"
   ]
  },
  {
   "cell_type": "code",
   "execution_count": 3,
   "id": "0d37fa93-68a5-4e23-8ad8-0359e6ee0d10",
   "metadata": {},
   "outputs": [],
   "source": [
    "\n",
    "\n",
    "alpaca_client = connect_to_alpaca(ALPACA_API_KEY, ALPACA_SECRET_KEY, ALPAKA_ENDPOINT_URL)\n",
    "alpaca_tickers = fetch_alpaca_stock_tickers(alpaca_client, exchanges=['NASDAQ', 'NYSE', 'AMEX'])\n",
    "db_tickers = fetch_database_stock_tickers()\n"
   ]
  },
  {
   "cell_type": "code",
   "execution_count": 4,
   "id": "f97e7cce-5b28-41c2-b9ee-1a724d9473a8",
   "metadata": {},
   "outputs": [],
   "source": [
    "def compare_ticker_lists(db_tickers, alpaca_tickers):\n",
    "    \"\"\"Compare two lists of stock tickers and identify dropped and added tickers.\n",
    "\n",
    "    Parameters\n",
    "    ----------\n",
    "    db_tickers : list\n",
    "        List of ticker symbols from the database (e.g., from fetch_database_stock_tickers).\n",
    "    alpaca_tickers : list\n",
    "        List of ticker symbols from Alpaca API (e.g., from fetch_alpaca_stock_tickers).\n",
    "\n",
    "    Returns\n",
    "    -------\n",
    "    tuple\n",
    "        A tuple containing two lists:\n",
    "        - dropped_tickers: List of tickers present in db_tickers but not in alpaca_tickers.\n",
    "        - added_tickers: List of tickers present in alpaca_tickers but not in db_tickers.\n",
    "\n",
    "    Examples\n",
    "    --------\n",
    "    >>> db_list = ['AAPL', 'GOOGL', 'FB']\n",
    "    >>> alpaca_list = ['AAPL', 'TSLA', 'GOOGL']\n",
    "    >>> dropped, added = compare_ticker_lists(db_list, alpaca_list)\n",
    "    >>> print(\"Dropped:\", dropped)\n",
    "    Dropped: ['FB']\n",
    "    >>> print(\"Added:\", added)\n",
    "    Added: ['TSLA']\n",
    "    \"\"\"\n",
    "    # Convert lists to sets for efficient comparison\n",
    "    db_set = set(db_tickers)\n",
    "    alpaca_set = set(alpaca_tickers)\n",
    "    \n",
    "    # Find tickers in db_tickers but not in alpaca_tickers (dropped)\n",
    "    dropped_tickers = list(db_set - alpaca_set)\n",
    "    \n",
    "    # Find tickers in alpaca_tickers but not in db_tickers (added)\n",
    "    added_tickers = list(alpaca_set - db_set)\n",
    "    \n",
    "    return dropped_tickers, added_tickers"
   ]
  },
  {
   "cell_type": "code",
   "execution_count": 5,
   "id": "1f9ee374-5daa-4cd4-989e-b222d46c8e0d",
   "metadata": {},
   "outputs": [
    {
     "data": {
      "text/plain": [
       "(['FFNW',\n",
       "  'CSA',\n",
       "  'SYRA',\n",
       "  'ENFN',\n",
       "  'EQC',\n",
       "  'MKFG',\n",
       "  'OCEA',\n",
       "  'ONVO',\n",
       "  'ENZ',\n",
       "  'MDCP',\n",
       "  'CMRX',\n",
       "  'STKH',\n",
       "  'CSLR',\n",
       "  'CTHR',\n",
       "  'XFOR',\n",
       "  'NAAS',\n",
       "  'DEA',\n",
       "  'CSLRW',\n",
       "  'CSF',\n",
       "  'AWH',\n",
       "  'DTC',\n",
       "  'STSS',\n",
       "  'SCPX',\n",
       "  'AIEV',\n",
       "  'PDCO',\n",
       "  'ML',\n",
       "  'FNA',\n",
       "  'OCEAW'],\n",
       " ['FERA',\n",
       "  'DVS',\n",
       "  'CHA',\n",
       "  'PHOE',\n",
       "  'IPCXU',\n",
       "  'AVGB',\n",
       "  'MBBC',\n",
       "  'BCTXZ',\n",
       "  'VIVS',\n",
       "  'RVNL',\n",
       "  'LCDL',\n",
       "  'XOMZ',\n",
       "  'PLTG',\n",
       "  'TVACU',\n",
       "  'NHICW',\n",
       "  'RAC',\n",
       "  'BOEU',\n",
       "  'TMDE',\n",
       "  'APPX',\n",
       "  'PFAI',\n",
       "  'GENVR',\n",
       "  'CIGL',\n",
       "  'LOKVW',\n",
       "  'BOED',\n",
       "  'NHIC',\n",
       "  'XOMX',\n",
       "  'EDHL',\n",
       "  'SPWRW',\n",
       "  'SSII',\n",
       "  'SPWR',\n",
       "  'LOKV',\n",
       "  'NPACU',\n",
       "  'CHACU',\n",
       "  'FERAR'])"
      ]
     },
     "execution_count": 5,
     "metadata": {},
     "output_type": "execute_result"
    }
   ],
   "source": [
    "compare_ticker_lists(db_tickers, alpaca_tickers)"
   ]
  },
  {
   "cell_type": "code",
   "execution_count": null,
   "id": "f7b9e57e-b989-46c5-b985-69ba170a6053",
   "metadata": {},
   "outputs": [],
   "source": []
  },
  {
   "cell_type": "code",
   "execution_count": 6,
   "id": "0519b686-c25c-4b37-8dcd-7fdd4e3d97bf",
   "metadata": {},
   "outputs": [],
   "source": [
    "def fetch_database_stock_tickers():\n",
    "    conn = get_db_connection('assets.db', print_statements=False)\n",
    "    query = \"\"\"\n",
    "    SELECT symbol FROM asset_metadata\n",
    "    \"\"\"\n",
    "    past_ticker_list = pd.read_sql(query, conn)['symbol'].to_list()\n",
    "    conn.close()\n",
    "    return past_ticker_list "
   ]
  },
  {
   "cell_type": "code",
   "execution_count": null,
   "id": "a1676b68-4cce-4fb5-b3cb-b18236175245",
   "metadata": {},
   "outputs": [],
   "source": []
  },
  {
   "cell_type": "code",
   "execution_count": 7,
   "id": "c2fd81e7",
   "metadata": {},
   "outputs": [
    {
     "name": "stdout",
     "output_type": "stream",
     "text": [
      "Connecting to database: D:\\dev\\stat_656_autotrader\\databases\\assets.db\n",
      "Connected to assets.db\n",
      "Connecting to database: D:\\dev\\stat_656_autotrader\\databases\\assets.db\n",
      "Found 7458 active tickers: ['PAMT', 'ADNWW', 'ADN', 'AMTX', 'OXSQG']...\n"
     ]
    }
   ],
   "source": [
    "# Cell 2: Connect and Fetch Tickers\n",
    "conn = get_db_connection('assets.db')\n",
    "print(\"Connected to assets.db\")\n",
    "\n",
    "active_tickers = fetch_active_tickers()\n",
    "print(f\"Found {len(active_tickers)} active tickers: {list(active_tickers.keys())[:5]}...\")\n"
   ]
  },
  {
   "cell_type": "code",
   "execution_count": null,
   "id": "31fdbac3",
   "metadata": {},
   "outputs": [],
   "source": []
  },
  {
   "cell_type": "code",
   "execution_count": 8,
   "id": "ff3922fb",
   "metadata": {},
   "outputs": [
    {
     "name": "stdout",
     "output_type": "stream",
     "text": [
      "Querying AAPL prices for last 120 trading days from 2024-10-22 to 2025-04-15\n",
      "Fetched 120 price records for AAPL\n"
     ]
    },
    {
     "data": {
      "text/html": [
       "<div>\n",
       "<style scoped>\n",
       "    .dataframe tbody tr th:only-of-type {\n",
       "        vertical-align: middle;\n",
       "    }\n",
       "\n",
       "    .dataframe tbody tr th {\n",
       "        vertical-align: top;\n",
       "    }\n",
       "\n",
       "    .dataframe thead th {\n",
       "        text-align: right;\n",
       "    }\n",
       "</style>\n",
       "<table border=\"1\" class=\"dataframe\">\n",
       "  <thead>\n",
       "    <tr style=\"text-align: right;\">\n",
       "      <th></th>\n",
       "      <th>date</th>\n",
       "      <th>open</th>\n",
       "      <th>high</th>\n",
       "      <th>low</th>\n",
       "      <th>close</th>\n",
       "    </tr>\n",
       "  </thead>\n",
       "  <tbody>\n",
       "    <tr>\n",
       "      <th>0</th>\n",
       "      <td>2024-10-22</td>\n",
       "      <td>233.86</td>\n",
       "      <td>236.180</td>\n",
       "      <td>232.670</td>\n",
       "      <td>235.890</td>\n",
       "    </tr>\n",
       "    <tr>\n",
       "      <th>1</th>\n",
       "      <td>2024-10-23</td>\n",
       "      <td>234.10</td>\n",
       "      <td>235.130</td>\n",
       "      <td>227.770</td>\n",
       "      <td>230.675</td>\n",
       "    </tr>\n",
       "    <tr>\n",
       "      <th>2</th>\n",
       "      <td>2024-10-24</td>\n",
       "      <td>229.97</td>\n",
       "      <td>230.815</td>\n",
       "      <td>228.420</td>\n",
       "      <td>230.600</td>\n",
       "    </tr>\n",
       "    <tr>\n",
       "      <th>3</th>\n",
       "      <td>2024-10-25</td>\n",
       "      <td>229.74</td>\n",
       "      <td>233.120</td>\n",
       "      <td>229.600</td>\n",
       "      <td>231.220</td>\n",
       "    </tr>\n",
       "    <tr>\n",
       "      <th>4</th>\n",
       "      <td>2024-10-28</td>\n",
       "      <td>233.32</td>\n",
       "      <td>234.710</td>\n",
       "      <td>232.565</td>\n",
       "      <td>233.510</td>\n",
       "    </tr>\n",
       "  </tbody>\n",
       "</table>\n",
       "</div>"
      ],
      "text/plain": [
       "        date    open     high      low    close\n",
       "0 2024-10-22  233.86  236.180  232.670  235.890\n",
       "1 2024-10-23  234.10  235.130  227.770  230.675\n",
       "2 2024-10-24  229.97  230.815  228.420  230.600\n",
       "3 2024-10-25  229.74  233.120  229.600  231.220\n",
       "4 2024-10-28  233.32  234.710  232.565  233.510"
      ]
     },
     "execution_count": 8,
     "metadata": {},
     "output_type": "execute_result"
    }
   ],
   "source": [
    "sample_ticker = 'AAPL'\n",
    "days_back = 120\n",
    "\n",
    "price_data = fetch_price_range(sample_ticker, days_back, conn=conn)\n",
    "price_data.head()"
   ]
  },
  {
   "cell_type": "code",
   "execution_count": null,
   "id": "b2a2d620",
   "metadata": {},
   "outputs": [],
   "source": []
  },
  {
   "cell_type": "code",
   "execution_count": 10,
   "id": "aa2a2582",
   "metadata": {},
   "outputs": [
    {
     "data": {
      "text/html": [
       "<div>\n",
       "<style scoped>\n",
       "    .dataframe tbody tr th:only-of-type {\n",
       "        vertical-align: middle;\n",
       "    }\n",
       "\n",
       "    .dataframe tbody tr th {\n",
       "        vertical-align: top;\n",
       "    }\n",
       "\n",
       "    .dataframe thead th {\n",
       "        text-align: right;\n",
       "    }\n",
       "</style>\n",
       "<table border=\"1\" class=\"dataframe\">\n",
       "  <thead>\n",
       "    <tr style=\"text-align: right;\">\n",
       "      <th></th>\n",
       "      <th>date</th>\n",
       "      <th>open</th>\n",
       "      <th>high</th>\n",
       "      <th>low</th>\n",
       "      <th>close</th>\n",
       "    </tr>\n",
       "  </thead>\n",
       "  <tbody>\n",
       "    <tr>\n",
       "      <th>0</th>\n",
       "      <td>2024-10-22</td>\n",
       "      <td>233.860</td>\n",
       "      <td>236.180</td>\n",
       "      <td>232.670</td>\n",
       "      <td>235.890</td>\n",
       "    </tr>\n",
       "    <tr>\n",
       "      <th>1</th>\n",
       "      <td>2024-10-23</td>\n",
       "      <td>234.100</td>\n",
       "      <td>235.130</td>\n",
       "      <td>227.770</td>\n",
       "      <td>230.675</td>\n",
       "    </tr>\n",
       "    <tr>\n",
       "      <th>2</th>\n",
       "      <td>2024-10-24</td>\n",
       "      <td>229.970</td>\n",
       "      <td>230.815</td>\n",
       "      <td>228.420</td>\n",
       "      <td>230.600</td>\n",
       "    </tr>\n",
       "    <tr>\n",
       "      <th>3</th>\n",
       "      <td>2024-10-25</td>\n",
       "      <td>229.740</td>\n",
       "      <td>233.120</td>\n",
       "      <td>229.600</td>\n",
       "      <td>231.220</td>\n",
       "    </tr>\n",
       "    <tr>\n",
       "      <th>4</th>\n",
       "      <td>2024-10-28</td>\n",
       "      <td>233.320</td>\n",
       "      <td>234.710</td>\n",
       "      <td>232.565</td>\n",
       "      <td>233.510</td>\n",
       "    </tr>\n",
       "    <tr>\n",
       "      <th>...</th>\n",
       "      <td>...</td>\n",
       "      <td>...</td>\n",
       "      <td>...</td>\n",
       "      <td>...</td>\n",
       "      <td>...</td>\n",
       "    </tr>\n",
       "    <tr>\n",
       "      <th>115</th>\n",
       "      <td>2025-04-09</td>\n",
       "      <td>172.180</td>\n",
       "      <td>200.570</td>\n",
       "      <td>171.930</td>\n",
       "      <td>198.460</td>\n",
       "    </tr>\n",
       "    <tr>\n",
       "      <th>116</th>\n",
       "      <td>2025-04-10</td>\n",
       "      <td>189.065</td>\n",
       "      <td>194.750</td>\n",
       "      <td>183.060</td>\n",
       "      <td>190.630</td>\n",
       "    </tr>\n",
       "    <tr>\n",
       "      <th>117</th>\n",
       "      <td>2025-04-11</td>\n",
       "      <td>186.210</td>\n",
       "      <td>199.490</td>\n",
       "      <td>186.210</td>\n",
       "      <td>198.150</td>\n",
       "    </tr>\n",
       "    <tr>\n",
       "      <th>118</th>\n",
       "      <td>2025-04-14</td>\n",
       "      <td>211.440</td>\n",
       "      <td>212.870</td>\n",
       "      <td>201.215</td>\n",
       "      <td>202.610</td>\n",
       "    </tr>\n",
       "    <tr>\n",
       "      <th>119</th>\n",
       "      <td>2025-04-15</td>\n",
       "      <td>202.010</td>\n",
       "      <td>203.500</td>\n",
       "      <td>199.830</td>\n",
       "      <td>202.140</td>\n",
       "    </tr>\n",
       "  </tbody>\n",
       "</table>\n",
       "<p>120 rows × 5 columns</p>\n",
       "</div>"
      ],
      "text/plain": [
       "          date     open     high      low    close\n",
       "0   2024-10-22  233.860  236.180  232.670  235.890\n",
       "1   2024-10-23  234.100  235.130  227.770  230.675\n",
       "2   2024-10-24  229.970  230.815  228.420  230.600\n",
       "3   2024-10-25  229.740  233.120  229.600  231.220\n",
       "4   2024-10-28  233.320  234.710  232.565  233.510\n",
       "..         ...      ...      ...      ...      ...\n",
       "115 2025-04-09  172.180  200.570  171.930  198.460\n",
       "116 2025-04-10  189.065  194.750  183.060  190.630\n",
       "117 2025-04-11  186.210  199.490  186.210  198.150\n",
       "118 2025-04-14  211.440  212.870  201.215  202.610\n",
       "119 2025-04-15  202.010  203.500  199.830  202.140\n",
       "\n",
       "[120 rows x 5 columns]"
      ]
     },
     "execution_count": 10,
     "metadata": {},
     "output_type": "execute_result"
    }
   ],
   "source": [
    "price_data"
   ]
  },
  {
   "cell_type": "code",
   "execution_count": 11,
   "id": "f73db057",
   "metadata": {},
   "outputs": [
    {
     "ename": "NameError",
     "evalue": "name 'STOP' is not defined",
     "output_type": "error",
     "traceback": [
      "\u001b[1;31m---------------------------------------------------------------------------\u001b[0m",
      "\u001b[1;31mNameError\u001b[0m                                 Traceback (most recent call last)",
      "Cell \u001b[1;32mIn[11], line 1\u001b[0m\n\u001b[1;32m----> 1\u001b[0m \u001b[43mSTOP\u001b[49m\n",
      "\u001b[1;31mNameError\u001b[0m: name 'STOP' is not defined"
     ]
    }
   ],
   "source": [
    "STOP"
   ]
  },
  {
   "cell_type": "markdown",
   "id": "5881a942",
   "metadata": {},
   "source": [
    "# Update Recent Stock Prices"
   ]
  },
  {
   "cell_type": "code",
   "execution_count": null,
   "id": "830c2ed5",
   "metadata": {},
   "outputs": [],
   "source": [
    "# Initialize Alpaca client\n",
    "# alpaca = get_alpaca_client()\n",
    "\n",
    "# # Update stock prices for active tickers (e.g., last 5 days)\n",
    "# start_date = datetime.now() - timedelta(days=5)\n",
    "# end_date = datetime.now()\n",
    "\n",
    "# # Pass conn to update_stock_prices (assuming it’s updated to accept conn elsewhere)\n",
    "# updated_tickers = update_stock_prices(alpaca, conn, list(active_tickers.keys()), start_date, end_date)\n",
    "# print(f\"Updated prices for {len(updated_tickers)} tickers\")"
   ]
  },
  {
   "cell_type": "code",
   "execution_count": null,
   "id": "3099e78f",
   "metadata": {},
   "outputs": [],
   "source": []
  },
  {
   "cell_type": "code",
   "execution_count": null,
   "id": "9e184998",
   "metadata": {},
   "outputs": [],
   "source": []
  },
  {
   "cell_type": "code",
   "execution_count": null,
   "id": "24541a52",
   "metadata": {},
   "outputs": [],
   "source": []
  }
 ],
 "metadata": {
  "kernelspec": {
   "display_name": "aaron_dev",
   "language": "python",
   "name": "python3"
  },
  "language_info": {
   "codemirror_mode": {
    "name": "ipython",
    "version": 3
   },
   "file_extension": ".py",
   "mimetype": "text/x-python",
   "name": "python",
   "nbconvert_exporter": "python",
   "pygments_lexer": "ipython3",
   "version": "3.10.16"
  }
 },
 "nbformat": 4,
 "nbformat_minor": 5
}
