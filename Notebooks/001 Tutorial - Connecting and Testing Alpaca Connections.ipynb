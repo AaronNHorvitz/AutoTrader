{
 "cells": [
  {
   "cell_type": "code",
   "execution_count": 1,
   "metadata": {},
   "outputs": [],
   "source": [
    "# /Notebooks/001-Tutorial-Connecting-to-Data-Source.ipynb"
   ]
  },
  {
   "cell_type": "markdown",
   "metadata": {},
   "source": [
    "# Tutorial: Connecting and Testing Alpaca Connections"
   ]
  },
  {
   "cell_type": "code",
   "execution_count": null,
   "metadata": {},
   "outputs": [],
   "source": []
  },
  {
   "cell_type": "markdown",
   "metadata": {},
   "source": [
    "#  Setup & Imports"
   ]
  },
  {
   "cell_type": "code",
   "execution_count": 2,
   "metadata": {},
   "outputs": [
    {
     "name": "stdout",
     "output_type": "stream",
     "text": [
      "Project root added to sys.path: /workspaces/stat_656_autotrader\n"
     ]
    }
   ],
   "source": [
    "# Standard libraries\n",
    "from datetime import datetime, timedelta\n",
    "import time\n",
    "import sys\n",
    "from pathlib import Path\n",
    "import os\n",
    "\n",
    "# Non-standard libraries\n",
    "import pandas as pd\n",
    "from tqdm import tqdm\n",
    "import warnings\n",
    "warnings.filterwarnings(\"ignore\")\n",
    "\n",
    "# Define BASE_DIR and adjust sys.path before importing\n",
    "BASE_DIR = Path(os.getcwd()).parent  # Points to stat_656_autotrader/ from Notebooks/\n",
    "sys.path.append(str(BASE_DIR))\n",
    "print(f\"Project root added to sys.path: {BASE_DIR}\")\n",
    "\n",
    "# Import paths from the config module (now in src/)\n",
    "from src.config import BASE_DIR as CONFIG_BASE_DIR\n",
    "\n",
    "# Project-specific imports\n",
    "from src.utils import get_alpaca_client, fetch_alpaca_stock_tickers, fetch_alpaca_historical_data, fetch_alpaca_latest_bars\n",
    "from credentials import ALPACA_API_KEY, ALPACA_SECRET_KEY, ALPAKA_ENDPOINT_URL\n",
    "\n",
    "# Initialize Alpaca client\n",
    "alpaca = get_alpaca_client()"
   ]
  },
  {
   "cell_type": "markdown",
   "metadata": {},
   "source": [
    "# Connect and Fetch Alpaca Tickers"
   ]
  },
  {
   "cell_type": "code",
   "execution_count": 3,
   "metadata": {},
   "outputs": [
    {
     "name": "stdout",
     "output_type": "stream",
     "text": [
      "Error fetching tickers: request is not authorized\n",
      "Total tickers fetched: 0\n",
      "First 20 tickers: []\n"
     ]
    }
   ],
   "source": [
    "# Fetch Alpaca tickers using existing utility\n",
    "stock_tickers = fetch_alpaca_stock_tickers(alpaca)\n",
    "\n",
    "print(f\"Total tickers fetched: {len(stock_tickers)}\")\n",
    "print(\"First 20 tickers:\", stock_tickers[:20])"
   ]
  },
  {
   "cell_type": "markdown",
   "metadata": {},
   "source": [
    "# Configure Test Parameters"
   ]
  },
  {
   "cell_type": "code",
   "execution_count": 4,
   "metadata": {},
   "outputs": [
    {
     "name": "stdout",
     "output_type": "stream",
     "text": [
      "Fetching OHLC data from 2002-01-01 to 2025-04-06 (approx. 1260 trading days)\n"
     ]
    }
   ],
   "source": [
    "years_back = 5\n",
    "subset_size = 175\n",
    "subset_tickers = stock_tickers[:subset_size]\n",
    "\n",
    "start_date = \"2002-01-01\"\n",
    "end_date = (datetime.now() - timedelta(days=1)).strftime(\"%Y-%m-%d\")\n",
    "trading_days_back = years_back * 252  # Approximate number of trading days\n",
    "\n",
    "print(f\"Fetching OHLC data from {start_date} to {end_date} (approx. {trading_days_back} trading days)\")"
   ]
  },
  {
   "cell_type": "markdown",
   "metadata": {},
   "source": [
    "# Fetch Historical Data (OHLC)"
   ]
  },
  {
   "cell_type": "code",
   "execution_count": 5,
   "metadata": {},
   "outputs": [
    {
     "name": "stderr",
     "output_type": "stream",
     "text": [
      "Alpaca Download Progress: 0it [00:00, ?it/s]\n"
     ]
    },
    {
     "ename": "ZeroDivisionError",
     "evalue": "float division by zero",
     "output_type": "error",
     "traceback": [
      "\u001b[31m---------------------------------------------------------------------------\u001b[39m",
      "\u001b[31mZeroDivisionError\u001b[39m                         Traceback (most recent call last)",
      "\u001b[36mCell\u001b[39m\u001b[36m \u001b[39m\u001b[32mIn[5]\u001b[39m\u001b[32m, line 2\u001b[39m\n\u001b[32m      1\u001b[39m \u001b[38;5;66;03m# Use existing fetch utility for historical OHLC\u001b[39;00m\n\u001b[32m----> \u001b[39m\u001b[32m2\u001b[39m historical_df = \u001b[43mfetch_alpaca_historical_data\u001b[49m\u001b[43m(\u001b[49m\u001b[43malpaca\u001b[49m\u001b[43m,\u001b[49m\u001b[43m \u001b[49m\u001b[43msubset_tickers\u001b[49m\u001b[43m,\u001b[49m\u001b[43m \u001b[49m\u001b[43mstart_date\u001b[49m\u001b[43m,\u001b[49m\u001b[43m \u001b[49m\u001b[43mend_date\u001b[49m\u001b[43m,\u001b[49m\u001b[43m \u001b[49m\u001b[43myears_back\u001b[49m\u001b[43m)\u001b[49m\n\u001b[32m      4\u001b[39m \u001b[38;5;28mprint\u001b[39m(\u001b[33mf\u001b[39m\u001b[33m\"\u001b[39m\u001b[38;5;130;01m\\n\u001b[39;00m\u001b[33mFetched \u001b[39m\u001b[38;5;132;01m{\u001b[39;00m\u001b[38;5;28mlen\u001b[39m(historical_df)\u001b[38;5;132;01m}\u001b[39;00m\u001b[33m rows of historical OHLC data.\u001b[39m\u001b[33m\"\u001b[39m)\n\u001b[32m      5\u001b[39m \u001b[38;5;28mprint\u001b[39m(historical_df.head(\u001b[32m10\u001b[39m))\n",
      "\u001b[36mFile \u001b[39m\u001b[32m/workspaces/stat_656_autotrader/src/utils/alpaca_utils.py:80\u001b[39m, in \u001b[36mfetch_alpaca_historical_data\u001b[39m\u001b[34m(alpaca_client, tickers, start_date, end_date, years_back)\u001b[39m\n\u001b[32m     77\u001b[39m         time.sleep(\u001b[32m1\u001b[39m)\n\u001b[32m     79\u001b[39m total_seconds = time.time() - start_time\n\u001b[32m---> \u001b[39m\u001b[32m80\u001b[39m seconds_per_ticker = \u001b[38;5;28mround\u001b[39m(\u001b[43mtotal_seconds\u001b[49m\u001b[43m \u001b[49m\u001b[43m/\u001b[49m\u001b[43m \u001b[49m\u001b[38;5;28;43mlen\u001b[39;49m\u001b[43m(\u001b[49m\u001b[43mtickers\u001b[49m\u001b[43m)\u001b[49m, \u001b[32m2\u001b[39m)\n\u001b[32m     81\u001b[39m \u001b[38;5;28mprint\u001b[39m(\u001b[33mf\u001b[39m\u001b[33m\"\u001b[39m\u001b[38;5;130;01m\\n\u001b[39;00m\u001b[33mFetched \u001b[39m\u001b[38;5;132;01m{\u001b[39;00m\u001b[38;5;28mlen\u001b[39m(alpaca_df)\u001b[38;5;132;01m}\u001b[39;00m\u001b[33m rows of stock data in \u001b[39m\u001b[38;5;132;01m{\u001b[39;00mtotal_seconds\u001b[38;5;132;01m:\u001b[39;00m\u001b[33m.2f\u001b[39m\u001b[38;5;132;01m}\u001b[39;00m\u001b[33m seconds.\u001b[39m\u001b[33m\"\u001b[39m)\n\u001b[32m     82\u001b[39m \u001b[38;5;28mprint\u001b[39m(\u001b[33mf\u001b[39m\u001b[33m\"\u001b[39m\u001b[33mProcessed \u001b[39m\u001b[38;5;132;01m{\u001b[39;00mprocessed_ticker_count\u001b[38;5;132;01m}\u001b[39;00m\u001b[33m tickers, missing \u001b[39m\u001b[38;5;132;01m{\u001b[39;00mmissing_data_count\u001b[38;5;132;01m}\u001b[39;00m\u001b[33m tickers, \u001b[39m\u001b[33m\"\u001b[39m\n\u001b[32m     83\u001b[39m       \u001b[33mf\u001b[39m\u001b[33m\"\u001b[39m\u001b[38;5;132;01m{\u001b[39;00mnot_enough_time_count\u001b[38;5;132;01m}\u001b[39;00m\u001b[33m tickers did not have enough time.\u001b[39m\u001b[33m\"\u001b[39m)\n",
      "\u001b[31mZeroDivisionError\u001b[39m: float division by zero"
     ]
    }
   ],
   "source": [
    "# Use existing fetch utility for historical OHLC\n",
    "historical_df = fetch_alpaca_historical_data(alpaca, subset_tickers, start_date, end_date, years_back)\n",
    "\n",
    "print(f\"\\nFetched {len(historical_df)} rows of historical OHLC data.\")\n",
    "print(historical_df.head(10))"
   ]
  },
  {
   "cell_type": "markdown",
   "metadata": {},
   "source": [
    "# Fetch Yesterday's OHLC"
   ]
  },
  {
   "cell_type": "code",
   "execution_count": null,
   "metadata": {},
   "outputs": [],
   "source": [
    "yesterday = (datetime.now() - timedelta(days=1)).strftime(\"%Y-%m-%d\")\n",
    "\n",
    "yesterday_df = fetch_alpaca_historical_data(alpaca, subset_tickers, yesterday, yesterday)\n",
    "\n",
    "print(f\"\\nFetched OHLC data for yesterday ({yesterday}):\")\n",
    "print(yesterday_df.head(10))"
   ]
  },
  {
   "cell_type": "markdown",
   "metadata": {},
   "source": [
    "# Fetch Today's Open Prices"
   ]
  },
  {
   "cell_type": "code",
   "execution_count": null,
   "metadata": {},
   "outputs": [],
   "source": [
    "today = datetime.now().strftime(\"%Y-%m-%d\")\n",
    "market_open_dt = pd.Timestamp(f\"{today}T09:30:00-05:00\")\n",
    "\n",
    "open_prices_df = pd.DataFrame()\n",
    "\n",
    "for ticker in tqdm(subset_tickers, desc=\"Fetching Today's Open Prices\"):\n",
    "    bars = alpaca.get_bars(ticker, \"1Min\", market_open_dt.isoformat(), (market_open_dt + timedelta(minutes=1)).isoformat()).df\n",
    "    if not bars.empty:\n",
    "        bars.reset_index(inplace=True)\n",
    "        open_prices_df = pd.concat([\n",
    "            open_prices_df,\n",
    "            pd.DataFrame({\n",
    "                'ticker': [ticker],\n",
    "                'date': [today],\n",
    "                'open': [bars.iloc[0]['open']]\n",
    "            })\n",
    "        ])\n",
    "    time.sleep(0.3)  # Slightly faster, but avoid hitting rate limits\n",
    "\n",
    "print(f\"\\nToday's Open Prices ({today}):\")\n",
    "print(open_prices_df.head(10))"
   ]
  },
  {
   "cell_type": "markdown",
   "metadata": {},
   "source": [
    "# Batch Fetch Real-time latest Bars"
   ]
  },
  {
   "cell_type": "code",
   "execution_count": null,
   "metadata": {},
   "outputs": [],
   "source": [
    "real_time_df = fetch_alpaca_latest_bars(alpaca, subset_tickers)\n",
    "\n",
    "print(\"\\nReal-Time Latest Bars (Market Open):\")\n",
    "print(real_time_df.head(10))"
   ]
  },
  {
   "cell_type": "markdown",
   "metadata": {},
   "source": [
    "# Performance Summary"
   ]
  },
  {
   "cell_type": "code",
   "execution_count": null,
   "metadata": {},
   "outputs": [],
   "source": [
    "# Simple diagnostics\n",
    "def performance_summary(start_time, num_tickers):\n",
    "    total_seconds = time.time() - start_time\n",
    "    seconds_per_ticker = total_seconds / num_tickers\n",
    "    estimated_time_all = (seconds_per_ticker * len(stock_tickers)) / 60  # in minutes\n",
    "\n",
    "    print(f\"\\nProcessed {num_tickers} tickers in {total_seconds:.2f} seconds.\")\n",
    "    print(f\"Average time per ticker: {seconds_per_ticker:.2f} sec.\")\n",
    "    print(f\"Estimated time for all tickers: {estimated_time_all:.2f} mins.\")\n",
    "\n",
    "# Example Usage:\n",
    "start_time = time.time()\n",
    "_ = fetch_alpaca_latest_bars(alpaca, subset_tickers[:10])\n",
    "performance_summary(start_time, 10)"
   ]
  },
  {
   "cell_type": "code",
   "execution_count": null,
   "metadata": {},
   "outputs": [],
   "source": []
  },
  {
   "cell_type": "code",
   "execution_count": null,
   "metadata": {},
   "outputs": [],
   "source": []
  }
 ],
 "metadata": {
  "kernelspec": {
   "display_name": "autotrader",
   "language": "python",
   "name": "python3"
  },
  "language_info": {
   "codemirror_mode": {
    "name": "ipython",
    "version": 3
   },
   "file_extension": ".py",
   "mimetype": "text/x-python",
   "name": "python",
   "nbconvert_exporter": "python",
   "pygments_lexer": "ipython3",
   "version": "3.11.11"
  }
 },
 "nbformat": 4,
 "nbformat_minor": 2
}
