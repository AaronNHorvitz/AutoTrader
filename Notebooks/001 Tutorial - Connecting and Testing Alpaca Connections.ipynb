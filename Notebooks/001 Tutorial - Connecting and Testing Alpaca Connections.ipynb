{
 "cells": [
  {
   "cell_type": "code",
   "execution_count": null,
   "metadata": {},
   "outputs": [],
   "source": [
    "# /Notebooks/001-Tutorial-Connecting-to-Data-Source.ipynb"
   ]
  },
  {
   "cell_type": "markdown",
   "metadata": {},
   "source": [
    "# Tutorial: Connecting and Testing Alpaca Connections"
   ]
  },
  {
   "cell_type": "code",
   "execution_count": null,
   "metadata": {},
   "outputs": [],
   "source": []
  },
  {
   "cell_type": "markdown",
   "metadata": {},
   "source": [
    "#  Setup & Imports"
   ]
  },
  {
   "cell_type": "code",
   "execution_count": null,
   "metadata": {},
   "outputs": [
    {
     "name": "stdout",
     "output_type": "stream",
     "text": [
      "Project root added to sys.path: D:\\dev\\stat_656_autotrader\n"
     ]
    }
   ],
   "source": [
    "# Standard libraries\n",
    "from datetime import datetime, timedelta\n",
    "import time\n",
    "import sys\n",
    "\n",
    "# Non-standard libraries\n",
    "import pandas as pd\n",
    "from tqdm import tqdm\n",
    "import warnings\n",
    "warnings.filterwarnings(\"ignore\")\n",
    "\n",
    "# Import paths from the config module\n",
    "from config import BASE_DIR\n",
    "\n",
    "# Adjust the path to the project root directory\n",
    "sys.path.append(str(BASE_DIR))\n",
    "print(f\"Project root added to sys.path: {BASE_DIR}\")\n",
    "\n",
    "# Project-specific imports\n",
    "from src.utils import get_alpaca_client, fetch_alpaca_stock_tickers, fetch_alpaca_historical_data, fetch_alpaca_latest_bars\n",
    "from credentials import ALPACA_API_KEY, ALPACA_SECRET_KEY, ALPAKA_ENDPOINT_URL\n",
    "\n",
    "# Initialize Alpaca client\n",
    "alpaca = get_alpaca_client()"
   ]
  },
  {
   "cell_type": "markdown",
   "metadata": {},
   "source": [
    "# Connect and Fetch Alpaca Tickers"
   ]
  },
  {
   "cell_type": "code",
   "execution_count": 2,
   "metadata": {},
   "outputs": [
    {
     "name": "stdout",
     "output_type": "stream",
     "text": [
      "Total tickers fetched: 7460\n",
      "First 20 tickers: ['PHI', 'GATX', 'PEY', 'REFR', 'HIHO', 'TY', 'TKR', 'VUZI', 'OFIX', 'NOMD', 'MPTI', 'ANTX', 'CASH', 'SEB', 'RMD', 'BEAT', 'PTY', 'CFBK', 'DYAI', 'GRC']\n"
     ]
    }
   ],
   "source": [
    "# Fetch Alpaca tickers using existing utility\n",
    "stock_tickers = fetch_alpaca_stock_tickers(alpaca)\n",
    "\n",
    "print(f\"Total tickers fetched: {len(stock_tickers)}\")\n",
    "print(\"First 20 tickers:\", stock_tickers[:20])"
   ]
  },
  {
   "cell_type": "markdown",
   "metadata": {},
   "source": [
    "# Configure Test Parameters"
   ]
  },
  {
   "cell_type": "code",
   "execution_count": 3,
   "metadata": {},
   "outputs": [
    {
     "name": "stdout",
     "output_type": "stream",
     "text": [
      "Fetching OHLC data from 2002-01-01 to 2025-03-29 (approx. 1260 trading days)\n"
     ]
    }
   ],
   "source": [
    "years_back = 5\n",
    "subset_size = 175\n",
    "subset_tickers = stock_tickers[:subset_size]\n",
    "\n",
    "start_date = \"2002-01-01\"\n",
    "end_date = (datetime.now() - timedelta(days=1)).strftime(\"%Y-%m-%d\")\n",
    "trading_days_back = years_back * 252  # Approximate number of trading days\n",
    "\n",
    "print(f\"Fetching OHLC data from {start_date} to {end_date} (approx. {trading_days_back} trading days)\")"
   ]
  },
  {
   "cell_type": "markdown",
   "metadata": {},
   "source": [
    "# Fetch Historical Data (OHLC)"
   ]
  },
  {
   "cell_type": "code",
   "execution_count": 4,
   "metadata": {},
   "outputs": [
    {
     "name": "stderr",
     "output_type": "stream",
     "text": [
      "Alpaca Download Progress: 100%|██████████| 175/175 [02:49<00:00,  1.03it/s]"
     ]
    },
    {
     "name": "stdout",
     "output_type": "stream",
     "text": [
      "\n",
      "Fetched 276535 rows of stock data in 169.14 seconds.\n",
      "Processed 175 tickers, missing 48 tickers, 48 tickers did not have enough time.\n",
      "Processing time per ticker: 0.97 seconds.\n",
      "\n",
      "Fetched 276535 rows of historical OHLC data.\n",
      "  ticker        date   open   high    low  close\n",
      "0    PHI  2016-09-02  39.15  39.90  38.86  39.46\n",
      "1    PHI  2016-09-06  39.48  39.48  38.35  38.62\n",
      "2    PHI  2016-09-07  38.71  39.41  38.31  39.10\n",
      "3    PHI  2016-09-08  39.49  39.85  39.32  39.81\n",
      "4    PHI  2016-09-09  39.54  39.57  37.50  37.81\n",
      "5    PHI  2016-09-12  37.53  37.90  37.38  37.56\n",
      "6    PHI  2016-09-13  37.43  37.43  36.44  36.59\n",
      "7    PHI  2016-09-14  36.73  37.66  36.73  36.86\n",
      "8    PHI  2016-09-15  36.72  36.72  35.92  36.19\n",
      "9    PHI  2016-09-16  35.82  35.82  34.86  35.05\n"
     ]
    },
    {
     "name": "stderr",
     "output_type": "stream",
     "text": [
      "\n"
     ]
    }
   ],
   "source": [
    "# Use existing fetch utility for historical OHLC\n",
    "historical_df = fetch_alpaca_historical_data(alpaca, subset_tickers, start_date, end_date, years_back)\n",
    "\n",
    "print(f\"\\nFetched {len(historical_df)} rows of historical OHLC data.\")\n",
    "print(historical_df.head(10))"
   ]
  },
  {
   "cell_type": "markdown",
   "metadata": {},
   "source": [
    "# Fetch Yesterday's OHLC"
   ]
  },
  {
   "cell_type": "code",
   "execution_count": 5,
   "metadata": {},
   "outputs": [
    {
     "name": "stderr",
     "output_type": "stream",
     "text": [
      "Alpaca Download Progress: 100%|██████████| 175/175 [03:20<00:00,  1.15s/it]"
     ]
    },
    {
     "name": "stdout",
     "output_type": "stream",
     "text": [
      "\n",
      "Fetched 0 rows of stock data in 200.77 seconds.\n",
      "Processed 175 tickers, missing 175 tickers, 0 tickers did not have enough time.\n",
      "Processing time per ticker: 1.15 seconds.\n",
      "\n",
      "Fetched OHLC data for yesterday (2025-03-29):\n",
      "Empty DataFrame\n",
      "Columns: []\n",
      "Index: []\n"
     ]
    },
    {
     "name": "stderr",
     "output_type": "stream",
     "text": [
      "\n"
     ]
    }
   ],
   "source": [
    "yesterday = (datetime.now() - timedelta(days=1)).strftime(\"%Y-%m-%d\")\n",
    "\n",
    "yesterday_df = fetch_alpaca_historical_data(alpaca, subset_tickers, yesterday, yesterday)\n",
    "\n",
    "print(f\"\\nFetched OHLC data for yesterday ({yesterday}):\")\n",
    "print(yesterday_df.head(10))"
   ]
  },
  {
   "cell_type": "markdown",
   "metadata": {},
   "source": [
    "# Fetch Today's Open Prices"
   ]
  },
  {
   "cell_type": "code",
   "execution_count": 6,
   "metadata": {},
   "outputs": [
    {
     "name": "stderr",
     "output_type": "stream",
     "text": [
      "Fetching Today's Open Prices: 100%|██████████| 175/175 [01:03<00:00,  2.75it/s]"
     ]
    },
    {
     "name": "stdout",
     "output_type": "stream",
     "text": [
      "\n",
      "Today's Open Prices (2025-03-30):\n",
      "Empty DataFrame\n",
      "Columns: []\n",
      "Index: []\n"
     ]
    },
    {
     "name": "stderr",
     "output_type": "stream",
     "text": [
      "\n"
     ]
    }
   ],
   "source": [
    "today = datetime.now().strftime(\"%Y-%m-%d\")\n",
    "market_open_dt = pd.Timestamp(f\"{today}T09:30:00-05:00\")\n",
    "\n",
    "open_prices_df = pd.DataFrame()\n",
    "\n",
    "for ticker in tqdm(subset_tickers, desc=\"Fetching Today's Open Prices\"):\n",
    "    bars = alpaca.get_bars(ticker, \"1Min\", market_open_dt.isoformat(), (market_open_dt + timedelta(minutes=1)).isoformat()).df\n",
    "    if not bars.empty:\n",
    "        bars.reset_index(inplace=True)\n",
    "        open_prices_df = pd.concat([\n",
    "            open_prices_df,\n",
    "            pd.DataFrame({\n",
    "                'ticker': [ticker],\n",
    "                'date': [today],\n",
    "                'open': [bars.iloc[0]['open']]\n",
    "            })\n",
    "        ])\n",
    "    time.sleep(0.3)  # Slightly faster, but avoid hitting rate limits\n",
    "\n",
    "print(f\"\\nToday's Open Prices ({today}):\")\n",
    "print(open_prices_df.head(10))"
   ]
  },
  {
   "cell_type": "markdown",
   "metadata": {},
   "source": [
    "# Batch Fetch Real-time latest Bars"
   ]
  },
  {
   "cell_type": "code",
   "execution_count": 7,
   "metadata": {},
   "outputs": [
    {
     "name": "stdout",
     "output_type": "stream",
     "text": [
      "\n",
      "Real-Time Latest Bars (Market Open):\n",
      "  ticker        date     open     high      low    close  volume\n",
      "0  AFRIW  2025-03-20    0.620    0.620    0.620    0.620    1300\n",
      "1   AGMI  2025-02-25   27.550   27.550   27.550   27.550     100\n",
      "2   AOMR  2025-03-28    9.560    9.560    9.560    9.560     100\n",
      "3   ACGL  2025-03-28   95.050   95.070   95.020   95.040    2933\n",
      "4   ACTG  2025-03-28    3.310    3.310    3.310    3.310     819\n",
      "5    AER  2025-03-28  102.110  102.120  102.110  102.120    1549\n",
      "6   ACIW  2025-03-28   54.250   54.250   54.250   54.250     248\n",
      "7   GATX  2025-03-28  155.335  155.335  155.335  155.335     109\n",
      "8    ADN  2025-03-26    4.960    4.960    4.960    4.960     100\n",
      "9    AGD  2025-03-28    9.955    9.955    9.955    9.955     502\n"
     ]
    }
   ],
   "source": [
    "real_time_df = fetch_alpaca_latest_bars(alpaca, subset_tickers)\n",
    "\n",
    "print(\"\\nReal-Time Latest Bars (Market Open):\")\n",
    "print(real_time_df.head(10))"
   ]
  },
  {
   "cell_type": "markdown",
   "metadata": {},
   "source": [
    "# Performance Summary"
   ]
  },
  {
   "cell_type": "code",
   "execution_count": 8,
   "metadata": {},
   "outputs": [
    {
     "name": "stdout",
     "output_type": "stream",
     "text": [
      "\n",
      "Processed 10 tickers in 0.05 seconds.\n",
      "Average time per ticker: 0.01 sec.\n",
      "Estimated time for all tickers: 0.64 mins.\n"
     ]
    }
   ],
   "source": [
    "# Simple diagnostics\n",
    "def performance_summary(start_time, num_tickers):\n",
    "    total_seconds = time.time() - start_time\n",
    "    seconds_per_ticker = total_seconds / num_tickers\n",
    "    estimated_time_all = (seconds_per_ticker * len(stock_tickers)) / 60  # in minutes\n",
    "\n",
    "    print(f\"\\nProcessed {num_tickers} tickers in {total_seconds:.2f} seconds.\")\n",
    "    print(f\"Average time per ticker: {seconds_per_ticker:.2f} sec.\")\n",
    "    print(f\"Estimated time for all tickers: {estimated_time_all:.2f} mins.\")\n",
    "\n",
    "# Example Usage:\n",
    "start_time = time.time()\n",
    "_ = fetch_alpaca_latest_bars(alpaca, subset_tickers[:10])\n",
    "performance_summary(start_time, 10)"
   ]
  },
  {
   "cell_type": "code",
   "execution_count": null,
   "metadata": {},
   "outputs": [],
   "source": []
  },
  {
   "cell_type": "code",
   "execution_count": null,
   "metadata": {},
   "outputs": [],
   "source": []
  }
 ],
 "metadata": {
  "kernelspec": {
   "display_name": "aaron_dev",
   "language": "python",
   "name": "python3"
  },
  "language_info": {
   "codemirror_mode": {
    "name": "ipython",
    "version": 3
   },
   "file_extension": ".py",
   "mimetype": "text/x-python",
   "name": "python",
   "nbconvert_exporter": "python",
   "pygments_lexer": "ipython3",
   "version": "3.10.8"
  }
 },
 "nbformat": 4,
 "nbformat_minor": 2
}
