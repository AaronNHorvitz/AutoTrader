{
 "cells": [
  {
   "cell_type": "code",
   "execution_count": 3,
   "metadata": {},
   "outputs": [],
   "source": [
    "# /Notebooks/001-Tutorial-Connecting-to-Data-Source.ipynb"
   ]
  },
  {
   "cell_type": "markdown",
   "metadata": {},
   "source": [
    "# Tutorial: Connecting and Testing Alpaca Connections"
   ]
  },
  {
   "cell_type": "code",
   "execution_count": null,
   "metadata": {},
   "outputs": [],
   "source": []
  },
  {
   "cell_type": "markdown",
   "metadata": {},
   "source": [
    "#  Setup & Imports"
   ]
  },
  {
   "cell_type": "code",
   "execution_count": 4,
   "metadata": {},
   "outputs": [
    {
     "name": "stdout",
     "output_type": "stream",
     "text": [
      "Project root added to sys.path: /home/aaronnhorvitz/dev/school/stat_656_autotrader\n"
     ]
    }
   ],
   "source": [
    "# Standard libraries\n",
    "from datetime import datetime, timedelta\n",
    "import time\n",
    "import sys\n",
    "from pathlib import Path\n",
    "import os\n",
    "\n",
    "# Non-standard libraries\n",
    "import pandas as pd\n",
    "from tqdm import tqdm\n",
    "import warnings\n",
    "warnings.filterwarnings(\"ignore\")\n",
    "\n",
    "# Define BASE_DIR and adjust sys.path before importing\n",
    "BASE_DIR = Path(os.getcwd()).parent  # Points to stat_656_autotrader/ from Notebooks/\n",
    "sys.path.append(str(BASE_DIR))\n",
    "print(f\"Project root added to sys.path: {BASE_DIR}\")\n",
    "\n",
    "# Import paths from the config module (now in src/)\n",
    "from src.config import BASE_DIR as CONFIG_BASE_DIR\n",
    "\n",
    "# Project-specific imports\n",
    "from src.utils import get_alpaca_client, fetch_alpaca_stock_tickers, fetch_alpaca_historical_data, fetch_alpaca_latest_bars\n",
    "from credentials import ALPACA_API_KEY, ALPACA_SECRET_KEY, ALPAKA_ENDPOINT_URL\n",
    "\n",
    "# Initialize Alpaca client\n",
    "alpaca = get_alpaca_client()"
   ]
  },
  {
   "cell_type": "markdown",
   "metadata": {},
   "source": [
    "# Connect and Fetch Alpaca Tickers"
   ]
  },
  {
   "cell_type": "code",
   "execution_count": 5,
   "metadata": {},
   "outputs": [
    {
     "name": "stdout",
     "output_type": "stream",
     "text": [
      "Total tickers fetched: 7465\n",
      "First 20 tickers: ['CNTX', 'CNTM', 'DGXX', 'GVH', 'GV', 'CNTB', 'DHAI', 'APCX', 'GUT', 'DHAIW', 'CNOBP', 'DHCNL', 'CNL', 'DHF', 'CNFRZ', 'CNFR', 'AP', 'AOUT', 'DISTR', 'GURE']\n"
     ]
    }
   ],
   "source": [
    "# Fetch Alpaca tickers using existing utility\n",
    "stock_tickers = fetch_alpaca_stock_tickers(alpaca)\n",
    "\n",
    "print(f\"Total tickers fetched: {len(stock_tickers)}\")\n",
    "print(\"First 20 tickers:\", stock_tickers[:20])"
   ]
  },
  {
   "cell_type": "markdown",
   "metadata": {},
   "source": [
    "# Configure Test Parameters"
   ]
  },
  {
   "cell_type": "code",
   "execution_count": 6,
   "metadata": {},
   "outputs": [
    {
     "name": "stdout",
     "output_type": "stream",
     "text": [
      "Fetching OHLC data from 2002-01-01 to 2025-04-27 (approx. 1260 trading days)\n"
     ]
    }
   ],
   "source": [
    "years_back = 5\n",
    "subset_size = 175\n",
    "subset_tickers = stock_tickers[:subset_size]\n",
    "\n",
    "start_date = \"2002-01-01\"\n",
    "end_date = (datetime.now() - timedelta(days=1)).strftime(\"%Y-%m-%d\")\n",
    "trading_days_back = years_back * 252  # Approximate number of trading days\n",
    "\n",
    "print(f\"Fetching OHLC data from {start_date} to {end_date} (approx. {trading_days_back} trading days)\")"
   ]
  },
  {
   "cell_type": "markdown",
   "metadata": {},
   "source": [
    "# Fetch Historical Data (OHLC)"
   ]
  },
  {
   "cell_type": "code",
   "execution_count": 7,
   "metadata": {},
   "outputs": [
    {
     "name": "stderr",
     "output_type": "stream",
     "text": [
      "Alpaca Download Progress: 100%|██████████| 175/175 [01:35<00:00,  1.84it/s]"
     ]
    },
    {
     "name": "stdout",
     "output_type": "stream",
     "text": [
      "\n",
      "Fetched 139235 rows of stock data in 95.11 seconds.\n",
      "Processed 175 tickers, missing 108 tickers, 108 tickers did not have enough time.\n",
      "Processing time per ticker: 0.54 seconds.\n",
      "\n",
      "Fetched 139235 rows of historical OHLC data.\n",
      "  ticker        date    open    high     low  close\n",
      "0    GUT  2016-01-04  5.6800  5.7100  5.6500   5.71\n",
      "1    GUT  2016-01-05  5.7400  5.7600  5.6898   5.72\n",
      "2    GUT  2016-01-06  5.7200  5.7600  5.7000   5.71\n",
      "3    GUT  2016-01-07  5.6700  5.7000  5.6500   5.70\n",
      "4    GUT  2016-01-08  5.7300  5.7500  5.6900   5.71\n",
      "5    GUT  2016-01-11  5.7500  5.7597  5.6000   5.63\n",
      "6    GUT  2016-01-12  5.6500  5.6500  5.5600   5.61\n",
      "7    GUT  2016-01-13  5.6163  5.6604  5.6111   5.64\n",
      "8    GUT  2016-01-14  5.6400  5.8400  5.6100   5.83\n",
      "9    GUT  2016-01-15  5.4600  5.6300  5.4300   5.60\n"
     ]
    },
    {
     "name": "stderr",
     "output_type": "stream",
     "text": [
      "\n"
     ]
    }
   ],
   "source": [
    "# Use existing fetch utility for historical OHLC\n",
    "historical_df = fetch_alpaca_historical_data(alpaca, subset_tickers, start_date, end_date, years_back)\n",
    "\n",
    "print(f\"\\nFetched {len(historical_df)} rows of historical OHLC data.\")\n",
    "print(historical_df.head(10))"
   ]
  },
  {
   "cell_type": "markdown",
   "metadata": {},
   "source": [
    "# Fetch Yesterday's OHLC"
   ]
  },
  {
   "cell_type": "code",
   "execution_count": 8,
   "metadata": {},
   "outputs": [
    {
     "name": "stderr",
     "output_type": "stream",
     "text": [
      "Alpaca Download Progress: 100%|██████████| 175/175 [03:04<00:00,  1.06s/it]"
     ]
    },
    {
     "name": "stdout",
     "output_type": "stream",
     "text": [
      "\n",
      "Fetched 0 rows of stock data in 184.87 seconds.\n",
      "Processed 175 tickers, missing 175 tickers, 0 tickers did not have enough time.\n",
      "Processing time per ticker: 1.06 seconds.\n",
      "\n",
      "Fetched OHLC data for yesterday (2025-04-27):\n",
      "Empty DataFrame\n",
      "Columns: []\n",
      "Index: []\n"
     ]
    },
    {
     "name": "stderr",
     "output_type": "stream",
     "text": [
      "\n"
     ]
    }
   ],
   "source": [
    "yesterday = (datetime.now() - timedelta(days=1)).strftime(\"%Y-%m-%d\")\n",
    "\n",
    "yesterday_df = fetch_alpaca_historical_data(alpaca, subset_tickers, yesterday, yesterday)\n",
    "\n",
    "print(f\"\\nFetched OHLC data for yesterday ({yesterday}):\")\n",
    "print(yesterday_df.head(10))"
   ]
  },
  {
   "cell_type": "markdown",
   "metadata": {},
   "source": [
    "# Fetch Today's Open Prices"
   ]
  },
  {
   "cell_type": "code",
   "execution_count": 9,
   "metadata": {},
   "outputs": [
    {
     "name": "stderr",
     "output_type": "stream",
     "text": [
      "Fetching Today's Open Prices: 100%|██████████| 175/175 [01:02<00:00,  2.80it/s]"
     ]
    },
    {
     "name": "stdout",
     "output_type": "stream",
     "text": [
      "\n",
      "Today's Open Prices (2025-04-28):\n",
      "  ticker        date    open\n",
      "0   CNTM  2025-04-28  0.6535\n",
      "0   DGXX  2025-04-28  1.1100\n",
      "0     GV  2025-04-28  2.1392\n",
      "0   CNTB  2025-04-28  0.8232\n",
      "0   APCX  2025-04-28  0.2645\n",
      "0    GUT  2025-04-28  5.2800\n",
      "0   CNEY  2025-04-28  0.1270\n",
      "0   GTEC  2025-04-28  1.6650\n",
      "0    ANY  2025-04-28  0.5766\n",
      "0    EAF  2025-04-28  0.6563\n"
     ]
    },
    {
     "name": "stderr",
     "output_type": "stream",
     "text": [
      "\n"
     ]
    }
   ],
   "source": [
    "today = datetime.now().strftime(\"%Y-%m-%d\")\n",
    "market_open_dt = pd.Timestamp(f\"{today}T09:30:00-05:00\")\n",
    "\n",
    "open_prices_df = pd.DataFrame()\n",
    "\n",
    "for ticker in tqdm(subset_tickers, desc=\"Fetching Today's Open Prices\"):\n",
    "    bars = alpaca.get_bars(ticker, \"1Min\", market_open_dt.isoformat(), (market_open_dt + timedelta(minutes=1)).isoformat()).df\n",
    "    if not bars.empty:\n",
    "        bars.reset_index(inplace=True)\n",
    "        open_prices_df = pd.concat([\n",
    "            open_prices_df,\n",
    "            pd.DataFrame({\n",
    "                'ticker': [ticker],\n",
    "                'date': [today],\n",
    "                'open': [bars.iloc[0]['open']]\n",
    "            })\n",
    "        ])\n",
    "    time.sleep(0.3)  # Slightly faster, but avoid hitting rate limits\n",
    "\n",
    "print(f\"\\nToday's Open Prices ({today}):\")\n",
    "print(open_prices_df.head(10))"
   ]
  },
  {
   "cell_type": "markdown",
   "metadata": {},
   "source": [
    "# Batch Fetch Real-time latest Bars"
   ]
  },
  {
   "cell_type": "code",
   "execution_count": null,
   "metadata": {},
   "outputs": [
    {
     "name": "stdout",
     "output_type": "stream",
     "text": [
      "\n",
      "Real-Time Latest Bars (Market Open):\n",
      "  ticker        date     open     high      low    close  volume\n",
      "0   CLDI  2025-04-28   0.4700   0.4700   0.4700   0.4700     200\n",
      "1   EICC  2025-04-23  24.9400  24.9400  24.9400  24.9400     150\n",
      "2   MBIO  2025-04-28   1.1750   1.1750   1.1600   1.1600     300\n",
      "3   CMSA  2025-04-28  21.3600  21.3600  21.3600  21.3600     387\n",
      "4   GQQQ  2025-04-23  22.9600  22.9600  22.9600  22.9600     113\n",
      "5    HQL  2025-04-28  12.4900  12.4900  12.4900  12.4900     200\n",
      "6  IMPPP  2025-04-25  24.0000  24.0000  24.0000  24.0000     200\n",
      "7   IMNN  2025-04-28   0.8601   0.8601   0.8601   0.8601     100\n",
      "8  CNOBP  2025-04-15  21.8500  21.8500  21.8500  21.8500     488\n",
      "9  HROWL  2025-04-25  25.2900  25.2900  25.2900  25.2900     100\n"
     ]
    }
   ],
   "source": [
    "real_time_df = fetch_alpaca_latest_bars(alpaca, subset_tickers)\n",
    "\n",
    "print(\"\\nReal-Time Latest Bars (Market Open):\")\n",
    "print(real_time_dfxsds\n",
    "      \n",
    "      dddddddddd(1"
   ]
  },
  {
   "cell_type": "markdown",
   "metadata": {},
   "source": [
    "# Performance Summary"
   ]
  },
  {
   "cell_type": "code",
   "execution_count": 11,
   "metadata": {},
   "outputs": [
    {
     "name": "stdout",
     "output_type": "stream",
     "text": [
      "\n",
      "Processed 10 tickers in 0.05 seconds.\n",
      "Average time per ticker: 0.00 sec.\n",
      "Estimated time for all tickers: 0.57 mins.\n"
     ]
    }
   ],
   "source": [
    "# Simple diagnostics\n",
    "def performance_summary(start_time, num_tickers):\n",
    "    total_seconds = time.time() - start_time\n",
    "    seconds_per_ticker = total_seconds / num_tickers\n",
    "    estimated_time_all = (seconds_per_ticker * len(stock_tickers)) / 60  # in minutes\n",
    "\n",
    "    print(f\"\\nProcessed {num_tickers} tickers in {total_seconds:.2f} seconds.\")\n",
    "    print(f\"Average time per ticker: {seconds_per_ticker:.2f} sec.\")\n",
    "    print(f\"Estimated time for all tickers: {estimated_time_all:.2f} mins.\")\n",
    "\n",
    "# Example Usage:\n",
    "start_time = time.time()\n",
    "_ = fetch_alpaca_latest_bars(alpaca, subset_tickers[:10])\n",
    "performance_summary(start_time, 10)"
   ]
  },
  {
   "cell_type": "code",
   "execution_count": null,
   "metadata": {},
   "outputs": [],
   "source": []
  },
  {
   "cell_type": "code",
   "execution_count": null,
   "metadata": {},
   "outputs": [],
   "source": []
  }
 ],
 "metadata": {
  "kernelspec": {
   "display_name": "autotrader",
   "language": "python",
   "name": "python3"
  },
  "language_info": {
   "codemirror_mode": {
    "name": "ipython",
    "version": 3
   },
   "file_extension": ".py",
   "mimetype": "text/x-python",
   "name": "python",
   "nbconvert_exporter": "python",
   "pygments_lexer": "ipython3",
   "version": "3.11.11"
  }
 },
 "nbformat": 4,
 "nbformat_minor": 2
}
