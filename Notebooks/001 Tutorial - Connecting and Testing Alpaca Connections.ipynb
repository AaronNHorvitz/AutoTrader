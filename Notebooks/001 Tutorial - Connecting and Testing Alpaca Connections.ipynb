{
 "cells": [
  {
   "cell_type": "code",
   "execution_count": null,
   "metadata": {},
   "outputs": [],
   "source": []
  },
  {
   "cell_type": "markdown",
   "metadata": {},
   "source": [
    "# Tutorial: Connecting and Testing Alpaca Connections"
   ]
  },
  {
   "cell_type": "code",
   "execution_count": null,
   "metadata": {},
   "outputs": [],
   "source": []
  },
  {
   "cell_type": "markdown",
   "metadata": {},
   "source": [
    "#  Setup & Imports"
   ]
  },
  {
   "cell_type": "code",
   "execution_count": null,
   "metadata": {},
   "outputs": [
    {
     "ename": "ImportError",
     "evalue": "cannot import name 'populate_historical_prices' from 'src.etl.populate_prices' (d:\\dev\\stat_656_autotrader\\src\\etl\\populate_prices.py)",
     "output_type": "error",
     "traceback": [
      "\u001b[1;31m---------------------------------------------------------------------------\u001b[0m",
      "\u001b[1;31mImportError\u001b[0m                               Traceback (most recent call last)",
      "Cell \u001b[1;32mIn[1], line 16\u001b[0m\n\u001b[0;32m     13\u001b[0m sys\u001b[38;5;241m.\u001b[39mpath\u001b[38;5;241m.\u001b[39mappend(\u001b[38;5;124mr\u001b[39m\u001b[38;5;124m\"\u001b[39m\u001b[38;5;124md:\u001b[39m\u001b[38;5;124m\\\u001b[39m\u001b[38;5;124mdev\u001b[39m\u001b[38;5;124m\\\u001b[39m\u001b[38;5;124mstat_656_autotrader\u001b[39m\u001b[38;5;124m\"\u001b[39m)\n\u001b[0;32m     15\u001b[0m \u001b[38;5;66;03m# Project-specific imports\u001b[39;00m\n\u001b[1;32m---> 16\u001b[0m \u001b[38;5;28;01mfrom\u001b[39;00m \u001b[38;5;21;01msrc\u001b[39;00m\u001b[38;5;21;01m.\u001b[39;00m\u001b[38;5;21;01mutils\u001b[39;00m \u001b[38;5;28;01mimport\u001b[39;00m get_alpaca_client, fetch_alpaca_stock_tickers, fetch_alpaca_historical_data, fetch_alpaca_latest_bars\n\u001b[0;32m     17\u001b[0m \u001b[38;5;28;01mfrom\u001b[39;00m \u001b[38;5;21;01mcredentials\u001b[39;00m \u001b[38;5;28;01mimport\u001b[39;00m ALPACA_API_KEY, ALPACA_SECRET_KEY, ALPAKA_ENDPOINT_URL\n\u001b[0;32m     19\u001b[0m \u001b[38;5;66;03m# Initialize Alpaca client\u001b[39;00m\n",
      "File \u001b[1;32md:\\dev\\stat_656_autotrader\\src\\__init__.py:13\u001b[0m\n\u001b[0;32m      1\u001b[0m \u001b[38;5;66;03m# src/__init__.py\u001b[39;00m\n\u001b[0;32m      3\u001b[0m \u001b[38;5;28;01mfrom\u001b[39;00m \u001b[38;5;21;01m.\u001b[39;00m\u001b[38;5;21;01mutils\u001b[39;00m \u001b[38;5;28;01mimport\u001b[39;00m (\n\u001b[0;32m      4\u001b[0m     get_alpaca_client,\n\u001b[0;32m      5\u001b[0m     fetch_alpaca_stock_tickers,\n\u001b[1;32m   (...)\u001b[0m\n\u001b[0;32m     10\u001b[0m     get_latest_price_date,\n\u001b[0;32m     11\u001b[0m )\n\u001b[1;32m---> 13\u001b[0m \u001b[38;5;28;01mfrom\u001b[39;00m \u001b[38;5;21;01m.\u001b[39;00m\u001b[38;5;21;01metl\u001b[39;00m \u001b[38;5;28;01mimport\u001b[39;00m (\n\u001b[0;32m     14\u001b[0m     populate_prices, \n\u001b[0;32m     15\u001b[0m     populate_tickers,\n\u001b[0;32m     16\u001b[0m     update_prices, \n\u001b[0;32m     17\u001b[0m )\n\u001b[0;32m     19\u001b[0m __all__ \u001b[38;5;241m=\u001b[39m [\n\u001b[0;32m     20\u001b[0m     \u001b[38;5;124m'\u001b[39m\u001b[38;5;124mget_alpaca_client\u001b[39m\u001b[38;5;124m'\u001b[39m,\n\u001b[0;32m     21\u001b[0m     \u001b[38;5;124m'\u001b[39m\u001b[38;5;124mfetch_alpaca_stock_tickers\u001b[39m\u001b[38;5;124m'\u001b[39m,\n\u001b[1;32m   (...)\u001b[0m\n\u001b[0;32m     31\u001b[0m     \u001b[38;5;124m'\u001b[39m\u001b[38;5;124mget_tickers_from_db\u001b[39m\u001b[38;5;124m'\u001b[39m,\n\u001b[0;32m     32\u001b[0m ]\n",
      "File \u001b[1;32md:\\dev\\stat_656_autotrader\\src\\etl\\__init__.py:3\u001b[0m\n\u001b[0;32m      1\u001b[0m \u001b[38;5;66;03m# src/etl/__init__.py\u001b[39;00m\n\u001b[1;32m----> 3\u001b[0m \u001b[38;5;28;01mfrom\u001b[39;00m \u001b[38;5;21;01m.\u001b[39;00m\u001b[38;5;21;01mpopulate_prices\u001b[39;00m \u001b[38;5;28;01mimport\u001b[39;00m populate_historical_prices, update_latest_prices\n\u001b[0;32m      4\u001b[0m \u001b[38;5;28;01mfrom\u001b[39;00m \u001b[38;5;21;01m.\u001b[39;00m\u001b[38;5;21;01mpopulate_tickers\u001b[39;00m \u001b[38;5;28;01mimport\u001b[39;00m populate_tickers\n\u001b[0;32m      5\u001b[0m \u001b[38;5;28;01mfrom\u001b[39;00m \u001b[38;5;21;01m.\u001b[39;00m\u001b[38;5;21;01mupdate_prices\u001b[39;00m \u001b[38;5;28;01mimport\u001b[39;00m update_daily_prices\n",
      "\u001b[1;31mImportError\u001b[0m: cannot import name 'populate_historical_prices' from 'src.etl.populate_prices' (d:\\dev\\stat_656_autotrader\\src\\etl\\populate_prices.py)"
     ]
    }
   ],
   "source": [
    "# Standard libraries\n",
    "from datetime import datetime, timedelta\n",
    "import time\n",
    "import sys\n",
    "\n",
    "# Non-standard libraries\n",
    "import pandas as pd\n",
    "from tqdm import tqdm\n",
    "import warnings\n",
    "warnings.filterwarnings(\"ignore\")\n",
    "\n",
    "# Adjust the path to your project root if needed\n",
    "sys.path.append(r\"d:\\dev\\stat_656_autotrader\")\n",
    "\n",
    "# Project-specific imports\n",
    "from src.utils import get_alpaca_client, fetch_alpaca_stock_tickers, fetch_alpaca_historical_data, fetch_alpaca_latest_bars\n",
    "from credentials import ALPACA_API_KEY, ALPACA_SECRET_KEY, ALPAKA_ENDPOINT_URL\n",
    "\n",
    "# Initialize Alpaca client\n",
    "alpaca = get_alpaca_client()"
   ]
  },
  {
   "cell_type": "markdown",
   "metadata": {},
   "source": [
    "# Connect and Fetch Alpaca Tickers"
   ]
  },
  {
   "cell_type": "code",
   "execution_count": null,
   "metadata": {},
   "outputs": [],
   "source": [
    "# Fetch Alpaca tickers using existing utility\n",
    "stock_tickers = fetch_alpaca_stock_tickers(alpaca)\n",
    "\n",
    "print(f\"Total tickers fetched: {len(stock_tickers)}\")\n",
    "print(\"First 20 tickers:\", stock_tickers[:20])"
   ]
  },
  {
   "cell_type": "markdown",
   "metadata": {},
   "source": [
    "# Configure Test Parameters"
   ]
  },
  {
   "cell_type": "code",
   "execution_count": null,
   "metadata": {},
   "outputs": [],
   "source": [
    "years_back = 5\n",
    "subset_size = 175\n",
    "subset_tickers = stock_tickers[:subset_size]\n",
    "\n",
    "start_date = \"2002-01-01\"\n",
    "end_date = (datetime.now() - timedelta(days=1)).strftime(\"%Y-%m-%d\")\n",
    "trading_days_back = years_back * 252  # Approximate number of trading days\n",
    "\n",
    "print(f\"Fetching OHLC data from {start_date} to {end_date} (approx. {trading_days_back} trading days)\")"
   ]
  },
  {
   "cell_type": "markdown",
   "metadata": {},
   "source": [
    "# Fetch Historical Data (OHLC)"
   ]
  },
  {
   "cell_type": "code",
   "execution_count": null,
   "metadata": {},
   "outputs": [],
   "source": [
    "# Use existing fetch utility for historical OHLC\n",
    "historical_df = fetch_alpaca_historical_data(alpaca, subset_tickers, start_date, end_date, years_back)\n",
    "\n",
    "print(f\"\\nFetched {len(historical_df)} rows of historical OHLC data.\")\n",
    "print(historical_df.head(10))"
   ]
  },
  {
   "cell_type": "markdown",
   "metadata": {},
   "source": [
    "# Fetch Yesterday's OHLC"
   ]
  },
  {
   "cell_type": "code",
   "execution_count": null,
   "metadata": {},
   "outputs": [],
   "source": [
    "yesterday = (datetime.now() - timedelta(days=1)).strftime(\"%Y-%m-%d\")\n",
    "\n",
    "yesterday_df = fetch_alpaca_historical_data(alpaca, subset_tickers, yesterday, yesterday)\n",
    "\n",
    "print(f\"\\nFetched OHLC data for yesterday ({yesterday}):\")\n",
    "print(yesterday_df.head(10))"
   ]
  },
  {
   "cell_type": "markdown",
   "metadata": {},
   "source": [
    "# Fetch Today's Open Prices"
   ]
  },
  {
   "cell_type": "code",
   "execution_count": null,
   "metadata": {},
   "outputs": [],
   "source": [
    "today = datetime.now().strftime(\"%Y-%m-%d\")\n",
    "market_open_dt = pd.Timestamp(f\"{today}T09:30:00-05:00\")\n",
    "\n",
    "open_prices_df = pd.DataFrame()\n",
    "\n",
    "for ticker in tqdm(subset_tickers, desc=\"Fetching Today's Open Prices\"):\n",
    "    bars = alpaca.get_bars(ticker, \"1Min\", market_open_dt.isoformat(), (market_open_dt + timedelta(minutes=1)).isoformat()).df\n",
    "    if not bars.empty:\n",
    "        bars.reset_index(inplace=True)\n",
    "        open_prices_df = pd.concat([\n",
    "            open_prices_df,\n",
    "            pd.DataFrame({\n",
    "                'ticker': [ticker],\n",
    "                'date': [today],\n",
    "                'open': [bars.iloc[0]['open']]\n",
    "            })\n",
    "        ])\n",
    "    time.sleep(0.3)  # Slightly faster, but avoid hitting rate limits\n",
    "\n",
    "print(f\"\\nToday's Open Prices ({today}):\")\n",
    "print(open_prices_df.head(10))"
   ]
  },
  {
   "cell_type": "markdown",
   "metadata": {},
   "source": [
    "# Batch Fetch Real-time latest Bars"
   ]
  },
  {
   "cell_type": "code",
   "execution_count": null,
   "metadata": {},
   "outputs": [],
   "source": [
    "real_time_df = fetch_alpaca_latest_bars(alpaca, subset_tickers)\n",
    "\n",
    "print(\"\\nReal-Time Latest Bars (Market Open):\")\n",
    "print(real_time_df.head(10))"
   ]
  },
  {
   "cell_type": "markdown",
   "metadata": {},
   "source": [
    "# Performance Summary"
   ]
  },
  {
   "cell_type": "code",
   "execution_count": null,
   "metadata": {},
   "outputs": [],
   "source": [
    "# Simple diagnostics\n",
    "def performance_summary(start_time, num_tickers):\n",
    "    total_seconds = time.time() - start_time\n",
    "    seconds_per_ticker = total_seconds / num_tickers\n",
    "    estimated_time_all = (seconds_per_ticker * len(stock_tickers)) / 60  # in minutes\n",
    "\n",
    "    print(f\"\\nProcessed {num_tickers} tickers in {total_seconds:.2f} seconds.\")\n",
    "    print(f\"Average time per ticker: {seconds_per_ticker:.2f} sec.\")\n",
    "    print(f\"Estimated time for all tickers: {estimated_time_all:.2f} mins.\")\n",
    "\n",
    "# Example Usage:\n",
    "start_time = time.time()\n",
    "_ = fetch_alpaca_latest_bars(alpaca, subset_tickers[:10])\n",
    "performance_summary(start_time, 10)"
   ]
  },
  {
   "cell_type": "code",
   "execution_count": null,
   "metadata": {},
   "outputs": [],
   "source": []
  },
  {
   "cell_type": "code",
   "execution_count": null,
   "metadata": {},
   "outputs": [],
   "source": []
  }
 ],
 "metadata": {
  "kernelspec": {
   "display_name": "aaron_dev",
   "language": "python",
   "name": "python3"
  },
  "language_info": {
   "codemirror_mode": {
    "name": "ipython",
    "version": 3
   },
   "file_extension": ".py",
   "mimetype": "text/x-python",
   "name": "python",
   "nbconvert_exporter": "python",
   "pygments_lexer": "ipython3",
   "version": "3.10.8"
  }
 },
 "nbformat": 4,
 "nbformat_minor": 2
}
