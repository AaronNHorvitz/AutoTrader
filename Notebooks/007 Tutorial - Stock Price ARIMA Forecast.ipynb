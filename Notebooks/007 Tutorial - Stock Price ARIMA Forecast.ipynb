{
 "cells": [
  {
   "cell_type": "markdown",
   "id": "ac7cb3ac",
   "metadata": {},
   "source": [
    "# ARIMAX Forecasting Workflow: AAPL Stock Prices"
   ]
  },
  {
   "cell_type": "code",
   "execution_count": null,
   "id": "dabd0fd4",
   "metadata": {},
   "outputs": [],
   "source": [
    "import pandas as pd\n",
    "import numpy as np\n",
    "import matplotlib.pyplot as plt\n",
    "\n",
    "from src.utils.db_utils import fetch_price_range\n",
    "from src.statistics import log_difference, smooth_lowess, check_stationarity\n",
    "from src.models.forecasting.arimax import select_best_arimax, forecast_arimax\n",
    "from src.statistics.changepoints import detect_level_shifts\n"
   ]
  },
  {
   "cell_type": "code",
   "execution_count": null,
   "id": "18509d1a",
   "metadata": {},
   "outputs": [],
   "source": []
  },
  {
   "cell_type": "markdown",
   "id": "fbd131c9",
   "metadata": {},
   "source": [
    "# Step 2: Fetch Historical Data"
   ]
  },
  {
   "cell_type": "code",
   "execution_count": null,
   "id": "96a63a43",
   "metadata": {},
   "outputs": [],
   "source": [
    "ticker = 'AAPL'\n",
    "days_back = 250\n",
    "df = fetch_price_range(ticker, days_back)\n",
    "df = df.dropna().reset_index(drop=True)\n",
    "print(df.head())"
   ]
  },
  {
   "cell_type": "code",
   "execution_count": null,
   "id": "34f3ff85",
   "metadata": {},
   "outputs": [],
   "source": []
  },
  {
   "cell_type": "markdown",
   "id": "0c82c5a7",
   "metadata": {},
   "source": [
    "# Step 3: Smooth Prices using LOWESS"
   ]
  },
  {
   "cell_type": "code",
   "execution_count": null,
   "id": "d202ab38",
   "metadata": {},
   "outputs": [],
   "source": [
    "smoothing_window = 30\n",
    "for col in ['open', 'high', 'low', 'close']:\n",
    "    df[f'{col}_smooth'] = smooth_lowess(df[col], window_length=smoothing_window)"
   ]
  },
  {
   "cell_type": "code",
   "execution_count": null,
   "id": "b9bc5b53",
   "metadata": {},
   "outputs": [],
   "source": []
  },
  {
   "cell_type": "markdown",
   "id": "d4c899c2",
   "metadata": {},
   "source": [
    "Step 4: Visualize Original vs. Smoothed Prices"
   ]
  },
  {
   "cell_type": "code",
   "execution_count": null,
   "id": "3465de09",
   "metadata": {},
   "outputs": [],
   "source": [
    "plt.figure(figsize=(14, 6))\n",
    "plt.plot(df['close'], label='Original Close', alpha=0.5)\n",
    "plt.plot(df['close_smooth'], label='Smoothed Close', linewidth=2)\n",
    "plt.title('Original vs. Smoothed Closing Prices')\n",
    "plt.legend()\n",
    "plt.show()"
   ]
  },
  {
   "cell_type": "code",
   "execution_count": null,
   "id": "5fe7aad8",
   "metadata": {},
   "outputs": [],
   "source": []
  }
 ],
 "metadata": {
  "kernelspec": {
   "display_name": "autotrader",
   "language": "python",
   "name": "python3"
  },
  "language_info": {
   "name": "python",
   "version": "3.11.11"
  }
 },
 "nbformat": 4,
 "nbformat_minor": 5
}
