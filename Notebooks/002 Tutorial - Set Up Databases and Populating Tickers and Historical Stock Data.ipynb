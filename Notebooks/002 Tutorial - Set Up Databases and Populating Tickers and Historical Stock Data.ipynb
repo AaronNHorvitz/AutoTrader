{
 "cells": [
  {
   "cell_type": "code",
   "execution_count": null,
   "metadata": {},
   "outputs": [],
   "source": []
  },
  {
   "cell_type": "markdown",
   "metadata": {},
   "source": [
    "# Set Up Databases and Populating Tickers and Historical Stock Data"
   ]
  },
  {
   "cell_type": "markdown",
   "metadata": {},
   "source": [
    "# 1. Setup & Imports"
   ]
  },
  {
   "cell_type": "code",
   "execution_count": 2,
   "metadata": {},
   "outputs": [
    {
     "name": "stdout",
     "output_type": "stream",
     "text": [
      "Project root added to sys.path: d:\\dev\\stat_656_autotrader\n"
     ]
    }
   ],
   "source": [
    "import sys\n",
    "import os\n",
    "import sqlite3\n",
    "from pathlib import Path\n",
    "from datetime import datetime, timedelta\n",
    "\n",
    "# Define BASE_DIR and adjust sys.path before importing\n",
    "BASE_DIR = Path(os.getcwd()).parent  # Points to stat_656_autotrader/ from Notebooks/\n",
    "sys.path.append(str(BASE_DIR))\n",
    "print(f\"Project root added to sys.path: {BASE_DIR}\")\n",
    "\n",
    "# Import paths from the config module\n",
    "from src.config import BASE_DIR, DB_DIR\n",
    "\n",
    "from src.db_schema import DATABASES\n",
    "from src.etl.populate_tickers import recreate_database, populate_tickers\n",
    "from src.etl.populate_prices import populate_prices\n",
    "from src.utils.db_utils import fetch_all_asset_metadata, fetch_all_asset_prices"
   ]
  },
  {
   "cell_type": "code",
   "execution_count": null,
   "metadata": {},
   "outputs": [],
   "source": []
  },
  {
   "cell_type": "markdown",
   "metadata": {},
   "source": [
    "# 2. Initialize SQLite Databases"
   ]
  },
  {
   "cell_type": "code",
   "execution_count": 3,
   "metadata": {},
   "outputs": [
    {
     "name": "stdout",
     "output_type": "stream",
     "text": [
      "✅ Tables created/verified in 'assets.db'\n",
      "✅ Tables created/verified in 'portfolio_management.db'\n",
      "✅ Tables created/verified in 'accounting.db'\n",
      "✅ Tables created/verified in 'modeling.db'\n",
      "✅ Tables created/verified in 'exogenous.db'\n",
      "✅ Tables created/verified in 'db_change_log.db'\n"
     ]
    }
   ],
   "source": [
    "DB_DIR.mkdir(exist_ok=True)\n",
    "\n",
    "def setup_databases():\n",
    "    \"\"\"Initialize databases and tables based on defined schemas.\"\"\"\n",
    "    for db_name, schemas in DATABASES.items():\n",
    "        db_path = DB_DIR / db_name\n",
    "\n",
    "        try:\n",
    "            with sqlite3.connect(db_path) as conn:\n",
    "                conn.execute(\"PRAGMA foreign_keys = ON;\")\n",
    "                cursor = conn.cursor()\n",
    "                for schema in schemas:\n",
    "                    cursor.execute(schema)\n",
    "                conn.commit()\n",
    "                print(f\"✅ Tables created/verified in '{db_name}'\")\n",
    "        except sqlite3.Error as e:\n",
    "            print(f\"❌ Error setting up '{db_name}': {e}\")\n",
    "\n",
    "# Run database setup\n",
    "setup_databases()"
   ]
  },
  {
   "cell_type": "code",
   "execution_count": null,
   "metadata": {},
   "outputs": [],
   "source": []
  },
  {
   "cell_type": "markdown",
   "metadata": {},
   "source": [
    "# 3. Populate Asset Metadata (Tickers)"
   ]
  },
  {
   "cell_type": "code",
   "execution_count": 4,
   "metadata": {},
   "outputs": [
    {
     "name": "stdout",
     "output_type": "stream",
     "text": [
      "\n",
      "🔄 Recreating and populating tickers database...\n",
      "✅ Tickers populated successfully.\n"
     ]
    }
   ],
   "source": [
    "print(\"\\n🔄 Recreating and populating tickers database...\")\n",
    "recreate_database()\n",
    "populate_tickers()\n",
    "print(\"✅ Tickers populated successfully.\")"
   ]
  },
  {
   "cell_type": "code",
   "execution_count": 5,
   "metadata": {},
   "outputs": [
    {
     "name": "stdout",
     "output_type": "stream",
     "text": [
      "Connecting to database: D:\\dev\\stat_656_autotrader\\databases\\assets.db\n",
      "Raw rows fetched: [(1, 'PAMT', 'PAMT CORP Common Stock', 'NASDAQ', 'us_equity', 1, '2025-04-16', None, '2025-04-16 04:41:04'), (2, 'ADNWW', 'Advent Technologies Holdings, Inc. Warrant', 'NASDAQ', 'us_equity', 1, '2025-04-16', None, '2025-04-16 04:41:04'), (3, 'ADN', 'Advent Technologies Holdings, Inc. Class A Common Stock', 'NASDAQ', 'us_equity', 1, '2025-04-16', None, '2025-04-16 04:41:04'), (4, 'AMTX', 'Aemetis, Inc. (DE) Common Stock', 'NASDAQ', 'us_equity', 1, '2025-04-16', None, '2025-04-16 04:41:04'), (5, 'OXSQG', 'Oxford Square Capital Corp. 5.50% Notes due 2028', 'NASDAQ', 'us_equity', 1, '2025-04-16', None, '2025-04-16 04:41:04')]\n",
      "Column names from DB: ['asset_id', 'symbol', 'name', 'exchange', 'asset_type', 'is_active', 'date_added', 'date_removed', 'fetched_at']\n",
      "DataFrame shape: (7458, 9)\n",
      "DataFrame columns: ['asset_id', 'symbol', 'name', 'exchange', 'asset_type', 'is_active', 'date_added', 'date_removed', 'fetched_at']\n"
     ]
    },
    {
     "data": {
      "text/html": [
       "<div>\n",
       "<style scoped>\n",
       "    .dataframe tbody tr th:only-of-type {\n",
       "        vertical-align: middle;\n",
       "    }\n",
       "\n",
       "    .dataframe tbody tr th {\n",
       "        vertical-align: top;\n",
       "    }\n",
       "\n",
       "    .dataframe thead th {\n",
       "        text-align: right;\n",
       "    }\n",
       "</style>\n",
       "<table border=\"1\" class=\"dataframe\">\n",
       "  <thead>\n",
       "    <tr style=\"text-align: right;\">\n",
       "      <th></th>\n",
       "      <th>asset_id</th>\n",
       "      <th>symbol</th>\n",
       "      <th>name</th>\n",
       "      <th>exchange</th>\n",
       "      <th>asset_type</th>\n",
       "      <th>is_active</th>\n",
       "      <th>date_added</th>\n",
       "      <th>date_removed</th>\n",
       "      <th>fetched_at</th>\n",
       "    </tr>\n",
       "  </thead>\n",
       "  <tbody>\n",
       "    <tr>\n",
       "      <th>0</th>\n",
       "      <td>1</td>\n",
       "      <td>PAMT</td>\n",
       "      <td>PAMT CORP Common Stock</td>\n",
       "      <td>NASDAQ</td>\n",
       "      <td>us_equity</td>\n",
       "      <td>1</td>\n",
       "      <td>2025-04-16</td>\n",
       "      <td>None</td>\n",
       "      <td>2025-04-16 04:41:04</td>\n",
       "    </tr>\n",
       "    <tr>\n",
       "      <th>1</th>\n",
       "      <td>2</td>\n",
       "      <td>ADNWW</td>\n",
       "      <td>Advent Technologies Holdings, Inc. Warrant</td>\n",
       "      <td>NASDAQ</td>\n",
       "      <td>us_equity</td>\n",
       "      <td>1</td>\n",
       "      <td>2025-04-16</td>\n",
       "      <td>None</td>\n",
       "      <td>2025-04-16 04:41:04</td>\n",
       "    </tr>\n",
       "    <tr>\n",
       "      <th>2</th>\n",
       "      <td>3</td>\n",
       "      <td>ADN</td>\n",
       "      <td>Advent Technologies Holdings, Inc. Class A Com...</td>\n",
       "      <td>NASDAQ</td>\n",
       "      <td>us_equity</td>\n",
       "      <td>1</td>\n",
       "      <td>2025-04-16</td>\n",
       "      <td>None</td>\n",
       "      <td>2025-04-16 04:41:04</td>\n",
       "    </tr>\n",
       "    <tr>\n",
       "      <th>3</th>\n",
       "      <td>4</td>\n",
       "      <td>AMTX</td>\n",
       "      <td>Aemetis, Inc. (DE) Common Stock</td>\n",
       "      <td>NASDAQ</td>\n",
       "      <td>us_equity</td>\n",
       "      <td>1</td>\n",
       "      <td>2025-04-16</td>\n",
       "      <td>None</td>\n",
       "      <td>2025-04-16 04:41:04</td>\n",
       "    </tr>\n",
       "    <tr>\n",
       "      <th>4</th>\n",
       "      <td>5</td>\n",
       "      <td>OXSQG</td>\n",
       "      <td>Oxford Square Capital Corp. 5.50% Notes due 2028</td>\n",
       "      <td>NASDAQ</td>\n",
       "      <td>us_equity</td>\n",
       "      <td>1</td>\n",
       "      <td>2025-04-16</td>\n",
       "      <td>None</td>\n",
       "      <td>2025-04-16 04:41:04</td>\n",
       "    </tr>\n",
       "    <tr>\n",
       "      <th>5</th>\n",
       "      <td>6</td>\n",
       "      <td>PHGE</td>\n",
       "      <td>BiomX Inc.</td>\n",
       "      <td>AMEX</td>\n",
       "      <td>us_equity</td>\n",
       "      <td>1</td>\n",
       "      <td>2025-04-16</td>\n",
       "      <td>None</td>\n",
       "      <td>2025-04-16 04:41:04</td>\n",
       "    </tr>\n",
       "    <tr>\n",
       "      <th>6</th>\n",
       "      <td>7</td>\n",
       "      <td>PRFX</td>\n",
       "      <td>PainReform Ltd. Ordinary Shares</td>\n",
       "      <td>NASDAQ</td>\n",
       "      <td>us_equity</td>\n",
       "      <td>1</td>\n",
       "      <td>2025-04-16</td>\n",
       "      <td>None</td>\n",
       "      <td>2025-04-16 04:41:04</td>\n",
       "    </tr>\n",
       "    <tr>\n",
       "      <th>7</th>\n",
       "      <td>8</td>\n",
       "      <td>PRFZ</td>\n",
       "      <td>Invesco Exchange-Traded Fund Trust Invesco RAF...</td>\n",
       "      <td>NASDAQ</td>\n",
       "      <td>us_equity</td>\n",
       "      <td>1</td>\n",
       "      <td>2025-04-16</td>\n",
       "      <td>None</td>\n",
       "      <td>2025-04-16 04:41:04</td>\n",
       "    </tr>\n",
       "    <tr>\n",
       "      <th>8</th>\n",
       "      <td>9</td>\n",
       "      <td>PRH</td>\n",
       "      <td>Prudential Financial, Inc. 5.950% Junior Subor...</td>\n",
       "      <td>NYSE</td>\n",
       "      <td>us_equity</td>\n",
       "      <td>1</td>\n",
       "      <td>2025-04-16</td>\n",
       "      <td>None</td>\n",
       "      <td>2025-04-16 04:41:04</td>\n",
       "    </tr>\n",
       "    <tr>\n",
       "      <th>9</th>\n",
       "      <td>10</td>\n",
       "      <td>PRME</td>\n",
       "      <td>Prime Medicine, Inc. Common Stock</td>\n",
       "      <td>NASDAQ</td>\n",
       "      <td>us_equity</td>\n",
       "      <td>1</td>\n",
       "      <td>2025-04-16</td>\n",
       "      <td>None</td>\n",
       "      <td>2025-04-16 04:41:04</td>\n",
       "    </tr>\n",
       "    <tr>\n",
       "      <th>10</th>\n",
       "      <td>11</td>\n",
       "      <td>TPIC</td>\n",
       "      <td>TPI Composites, Inc. Common Stock</td>\n",
       "      <td>NASDAQ</td>\n",
       "      <td>us_equity</td>\n",
       "      <td>1</td>\n",
       "      <td>2025-04-16</td>\n",
       "      <td>None</td>\n",
       "      <td>2025-04-16 04:41:04</td>\n",
       "    </tr>\n",
       "    <tr>\n",
       "      <th>11</th>\n",
       "      <td>12</td>\n",
       "      <td>TPLS</td>\n",
       "      <td>Thornburg ETF Trust Thornburg Core Plus Bond ETF</td>\n",
       "      <td>NASDAQ</td>\n",
       "      <td>us_equity</td>\n",
       "      <td>1</td>\n",
       "      <td>2025-04-16</td>\n",
       "      <td>None</td>\n",
       "      <td>2025-04-16 04:41:04</td>\n",
       "    </tr>\n",
       "    <tr>\n",
       "      <th>12</th>\n",
       "      <td>13</td>\n",
       "      <td>TPST</td>\n",
       "      <td>Tempest Therapeutics, Inc. Common Stock</td>\n",
       "      <td>NASDAQ</td>\n",
       "      <td>us_equity</td>\n",
       "      <td>1</td>\n",
       "      <td>2025-04-16</td>\n",
       "      <td>None</td>\n",
       "      <td>2025-04-16 04:41:04</td>\n",
       "    </tr>\n",
       "    <tr>\n",
       "      <th>13</th>\n",
       "      <td>14</td>\n",
       "      <td>TPTA</td>\n",
       "      <td>Terra Property Trust, Inc. 6.00% Notes due 2026</td>\n",
       "      <td>NYSE</td>\n",
       "      <td>us_equity</td>\n",
       "      <td>1</td>\n",
       "      <td>2025-04-16</td>\n",
       "      <td>None</td>\n",
       "      <td>2025-04-16 04:41:04</td>\n",
       "    </tr>\n",
       "    <tr>\n",
       "      <th>14</th>\n",
       "      <td>15</td>\n",
       "      <td>AMTD</td>\n",
       "      <td>AMTD IDEA Group American Depositary Shares, ea...</td>\n",
       "      <td>NYSE</td>\n",
       "      <td>us_equity</td>\n",
       "      <td>1</td>\n",
       "      <td>2025-04-16</td>\n",
       "      <td>None</td>\n",
       "      <td>2025-04-16 04:41:04</td>\n",
       "    </tr>\n",
       "    <tr>\n",
       "      <th>15</th>\n",
       "      <td>16</td>\n",
       "      <td>WBX</td>\n",
       "      <td>Wallbox N.V.</td>\n",
       "      <td>NYSE</td>\n",
       "      <td>us_equity</td>\n",
       "      <td>1</td>\n",
       "      <td>2025-04-16</td>\n",
       "      <td>None</td>\n",
       "      <td>2025-04-16 04:41:04</td>\n",
       "    </tr>\n",
       "    <tr>\n",
       "      <th>16</th>\n",
       "      <td>17</td>\n",
       "      <td>WHG</td>\n",
       "      <td>WESTWOOD HOLDINGS GROUP, INC.</td>\n",
       "      <td>NYSE</td>\n",
       "      <td>us_equity</td>\n",
       "      <td>1</td>\n",
       "      <td>2025-04-16</td>\n",
       "      <td>None</td>\n",
       "      <td>2025-04-16 04:41:04</td>\n",
       "    </tr>\n",
       "    <tr>\n",
       "      <th>17</th>\n",
       "      <td>18</td>\n",
       "      <td>WXM</td>\n",
       "      <td>WF International Limited Ordinary Shares</td>\n",
       "      <td>NASDAQ</td>\n",
       "      <td>us_equity</td>\n",
       "      <td>1</td>\n",
       "      <td>2025-04-16</td>\n",
       "      <td>None</td>\n",
       "      <td>2025-04-16 04:41:04</td>\n",
       "    </tr>\n",
       "    <tr>\n",
       "      <th>18</th>\n",
       "      <td>19</td>\n",
       "      <td>AMST</td>\n",
       "      <td>Amesite Inc. Common Stock</td>\n",
       "      <td>NASDAQ</td>\n",
       "      <td>us_equity</td>\n",
       "      <td>1</td>\n",
       "      <td>2025-04-16</td>\n",
       "      <td>None</td>\n",
       "      <td>2025-04-16 04:41:04</td>\n",
       "    </tr>\n",
       "    <tr>\n",
       "      <th>19</th>\n",
       "      <td>20</td>\n",
       "      <td>YHNA</td>\n",
       "      <td>YHN Acquisition I Limited Ordinary Shares</td>\n",
       "      <td>NASDAQ</td>\n",
       "      <td>us_equity</td>\n",
       "      <td>1</td>\n",
       "      <td>2025-04-16</td>\n",
       "      <td>None</td>\n",
       "      <td>2025-04-16 04:41:04</td>\n",
       "    </tr>\n",
       "  </tbody>\n",
       "</table>\n",
       "</div>"
      ],
      "text/plain": [
       "    asset_id symbol                                               name  \\\n",
       "0          1   PAMT                             PAMT CORP Common Stock   \n",
       "1          2  ADNWW         Advent Technologies Holdings, Inc. Warrant   \n",
       "2          3    ADN  Advent Technologies Holdings, Inc. Class A Com...   \n",
       "3          4   AMTX                    Aemetis, Inc. (DE) Common Stock   \n",
       "4          5  OXSQG   Oxford Square Capital Corp. 5.50% Notes due 2028   \n",
       "5          6   PHGE                                         BiomX Inc.   \n",
       "6          7   PRFX                    PainReform Ltd. Ordinary Shares   \n",
       "7          8   PRFZ  Invesco Exchange-Traded Fund Trust Invesco RAF...   \n",
       "8          9    PRH  Prudential Financial, Inc. 5.950% Junior Subor...   \n",
       "9         10   PRME                  Prime Medicine, Inc. Common Stock   \n",
       "10        11   TPIC                  TPI Composites, Inc. Common Stock   \n",
       "11        12   TPLS   Thornburg ETF Trust Thornburg Core Plus Bond ETF   \n",
       "12        13   TPST            Tempest Therapeutics, Inc. Common Stock   \n",
       "13        14   TPTA    Terra Property Trust, Inc. 6.00% Notes due 2026   \n",
       "14        15   AMTD  AMTD IDEA Group American Depositary Shares, ea...   \n",
       "15        16    WBX                                       Wallbox N.V.   \n",
       "16        17    WHG                      WESTWOOD HOLDINGS GROUP, INC.   \n",
       "17        18    WXM           WF International Limited Ordinary Shares   \n",
       "18        19   AMST                          Amesite Inc. Common Stock   \n",
       "19        20   YHNA          YHN Acquisition I Limited Ordinary Shares   \n",
       "\n",
       "   exchange asset_type  is_active  date_added date_removed  \\\n",
       "0    NASDAQ  us_equity          1  2025-04-16         None   \n",
       "1    NASDAQ  us_equity          1  2025-04-16         None   \n",
       "2    NASDAQ  us_equity          1  2025-04-16         None   \n",
       "3    NASDAQ  us_equity          1  2025-04-16         None   \n",
       "4    NASDAQ  us_equity          1  2025-04-16         None   \n",
       "5      AMEX  us_equity          1  2025-04-16         None   \n",
       "6    NASDAQ  us_equity          1  2025-04-16         None   \n",
       "7    NASDAQ  us_equity          1  2025-04-16         None   \n",
       "8      NYSE  us_equity          1  2025-04-16         None   \n",
       "9    NASDAQ  us_equity          1  2025-04-16         None   \n",
       "10   NASDAQ  us_equity          1  2025-04-16         None   \n",
       "11   NASDAQ  us_equity          1  2025-04-16         None   \n",
       "12   NASDAQ  us_equity          1  2025-04-16         None   \n",
       "13     NYSE  us_equity          1  2025-04-16         None   \n",
       "14     NYSE  us_equity          1  2025-04-16         None   \n",
       "15     NYSE  us_equity          1  2025-04-16         None   \n",
       "16     NYSE  us_equity          1  2025-04-16         None   \n",
       "17   NASDAQ  us_equity          1  2025-04-16         None   \n",
       "18   NASDAQ  us_equity          1  2025-04-16         None   \n",
       "19   NASDAQ  us_equity          1  2025-04-16         None   \n",
       "\n",
       "             fetched_at  \n",
       "0   2025-04-16 04:41:04  \n",
       "1   2025-04-16 04:41:04  \n",
       "2   2025-04-16 04:41:04  \n",
       "3   2025-04-16 04:41:04  \n",
       "4   2025-04-16 04:41:04  \n",
       "5   2025-04-16 04:41:04  \n",
       "6   2025-04-16 04:41:04  \n",
       "7   2025-04-16 04:41:04  \n",
       "8   2025-04-16 04:41:04  \n",
       "9   2025-04-16 04:41:04  \n",
       "10  2025-04-16 04:41:04  \n",
       "11  2025-04-16 04:41:04  \n",
       "12  2025-04-16 04:41:04  \n",
       "13  2025-04-16 04:41:04  \n",
       "14  2025-04-16 04:41:04  \n",
       "15  2025-04-16 04:41:04  \n",
       "16  2025-04-16 04:41:04  \n",
       "17  2025-04-16 04:41:04  \n",
       "18  2025-04-16 04:41:04  \n",
       "19  2025-04-16 04:41:04  "
      ]
     },
     "metadata": {},
     "output_type": "display_data"
    }
   ],
   "source": [
    "# View the asset metadata\n",
    "asset_metadata_df = fetch_all_asset_metadata()\n",
    "\n",
    "print(\"DataFrame shape:\", asset_metadata_df.shape)\n",
    "print(\"DataFrame columns:\", asset_metadata_df.columns.tolist())\n",
    "display(asset_metadata_df.head(20))"
   ]
  },
  {
   "cell_type": "code",
   "execution_count": 6,
   "metadata": {},
   "outputs": [
    {
     "data": {
      "text/plain": [
       "array(['NASDAQ', 'AMEX', 'NYSE'], dtype=object)"
      ]
     },
     "execution_count": 6,
     "metadata": {},
     "output_type": "execute_result"
    }
   ],
   "source": [
    "asset_metadata_df['exchange'].unique()"
   ]
  },
  {
   "cell_type": "code",
   "execution_count": null,
   "metadata": {},
   "outputs": [],
   "source": []
  },
  {
   "cell_type": "markdown",
   "metadata": {},
   "source": [
    "# 4. Populate Historical Stock Prices"
   ]
  },
  {
   "cell_type": "code",
   "execution_count": 7,
   "metadata": {},
   "outputs": [
    {
     "name": "stdout",
     "output_type": "stream",
     "text": [
      "Connecting to database: D:\\dev\\stat_656_autotrader\\databases\\assets.db\n",
      "Connecting to database: D:\\dev\\stat_656_autotrader\\databases\\assets.db\n",
      "Connecting to database: D:\\dev\\stat_656_autotrader\\databases\\assets.db\n",
      "Connecting to database: D:\\dev\\stat_656_autotrader\\databases\\assets.db\n"
     ]
    },
    {
     "name": "stderr",
     "output_type": "stream",
     "text": [
      "Alpaca Download Progress: 100%|██████████| 7458/7458 [2:59:21<00:00,  1.44s/it]  "
     ]
    },
    {
     "name": "stdout",
     "output_type": "stream",
     "text": [
      "\n",
      "Processed 7458 tickers, missing data for 27 tickers.\n",
      "Total time: 10761.55 seconds. Avg time per ticker: 1.44 seconds.\n",
      "✅ Historical stock prices populated successfully.\n"
     ]
    },
    {
     "name": "stderr",
     "output_type": "stream",
     "text": [
      "\n"
     ]
    }
   ],
   "source": [
    "# Ensure the historical prices are populated. \n",
    "populate_prices()\n",
    "print(\"✅ Historical stock prices populated successfully.\")"
   ]
  },
  {
   "cell_type": "code",
   "execution_count": null,
   "metadata": {},
   "outputs": [],
   "source": []
  },
  {
   "cell_type": "code",
   "execution_count": null,
   "metadata": {},
   "outputs": [],
   "source": [
    "# Fetch and display the historical prices\n",
    "print(\"\\n📊 Fetching and displaying historical stock prices...\")\n",
    "prices_df = fetch_all_asset_prices()\n",
    "\n",
    "# Display basic info and the first 20 rows\n",
    "print(f\"DataFrame shape: {prices_df.shape}\")\n",
    "print(f\"Columns: {prices_df.columns.tolist()}\")\n",
    "display(prices_df.head(20))"
   ]
  },
  {
   "cell_type": "code",
   "execution_count": null,
   "metadata": {},
   "outputs": [],
   "source": []
  },
  {
   "cell_type": "code",
   "execution_count": null,
   "metadata": {},
   "outputs": [],
   "source": []
  },
  {
   "cell_type": "code",
   "execution_count": null,
   "metadata": {},
   "outputs": [],
   "source": []
  },
  {
   "cell_type": "code",
   "execution_count": null,
   "metadata": {},
   "outputs": [],
   "source": []
  },
  {
   "cell_type": "code",
   "execution_count": null,
   "metadata": {},
   "outputs": [],
   "source": []
  }
 ],
 "metadata": {
  "kernelspec": {
   "display_name": "aaron_dev",
   "language": "python",
   "name": "python3"
  },
  "language_info": {
   "codemirror_mode": {
    "name": "ipython",
    "version": 3
   },
   "file_extension": ".py",
   "mimetype": "text/x-python",
   "name": "python",
   "nbconvert_exporter": "python",
   "pygments_lexer": "ipython3",
   "version": "3.10.16"
  }
 },
 "nbformat": 4,
 "nbformat_minor": 2
}
