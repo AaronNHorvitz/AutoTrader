{
 "cells": [
  {
   "cell_type": "code",
   "execution_count": null,
   "id": "c5603474",
   "metadata": {},
   "outputs": [],
   "source": []
  },
  {
   "cell_type": "markdown",
   "id": "0f6ebe98",
   "metadata": {},
   "source": [
    "# 004 Simple Database Queries\n",
    "This notebook demonstrates basic SQL queries against the `assets.db` database to explore stock metadata and price data."
   ]
  },
  {
   "cell_type": "markdown",
   "id": "e8ac8216",
   "metadata": {},
   "source": []
  },
  {
   "cell_type": "code",
   "execution_count": 3,
   "id": "3e4b672c",
   "metadata": {},
   "outputs": [
    {
     "name": "stdout",
     "output_type": "stream",
     "text": [
      "Project root added to sys.path: d:\\dev\\stat_656_autotrader\n"
     ]
    }
   ],
   "source": [
    "import sys\n",
    "import pandas as pd\n",
    "import sqlite3\n",
    "import os\n",
    "from pathlib import Path\n",
    "\n",
    "# Define BASE_DIR and adjust sys.path before importing\n",
    "BASE_DIR = Path(os.getcwd()).parent  # Points to stat_656_autotrader/ from Notebooks/\n",
    "sys.path.append(str(BASE_DIR))\n",
    "print(f\"Project root added to sys.path: {BASE_DIR}\")\n",
    "\n",
    "from src.config import BASE_DIR, DB_DIR  # Import from config.py\n",
    "from src.utils.db_utils import get_db_connection\n",
    "\n",
    "# Set display options for pandas\n",
    "pd.set_option('display.max_columns', None)\n",
    "pd.set_option('display.width', 1000)"
   ]
  },
  {
   "cell_type": "code",
   "execution_count": null,
   "id": "dc192346",
   "metadata": {},
   "outputs": [],
   "source": []
  },
  {
   "cell_type": "code",
   "execution_count": 4,
   "id": "3c5ddbf7",
   "metadata": {},
   "outputs": [],
   "source": [
    "def execute_sql_query(query, params=None, db_path=str(DB_DIR / 'assets.db'), return_df=True):\n",
    "    \"\"\"\n",
    "    Execute an SQL query against the database and return results.\n",
    "    \n",
    "    Args:\n",
    "        query (str): SQL query to execute.\n",
    "        params (tuple or list, optional): Parameters for the query (e.g., for WHERE clauses).\n",
    "        db_path (str): Path to assets.db, defaults to DB_DIR/assets.db.\n",
    "        return_df (bool): If True, return a pandas DataFrame; if False, return raw rows and columns.\n",
    "    \n",
    "    Returns:\n",
    "        pd.DataFrame or (list, list): Query results as a DataFrame or (rows, column names) if return_df=False.\n",
    "    \"\"\"\n",
    "    try:\n",
    "        conn = get_db_connection(db_name=db_path)\n",
    "        if return_df:\n",
    "            df = pd.read_sql_query(query, conn, params=params)\n",
    "            conn.close()\n",
    "            print(f\"Query returned {len(df)} rows\")\n",
    "            return df\n",
    "        else:\n",
    "            cursor = conn.cursor()\n",
    "            cursor.execute(query, params or [])\n",
    "            rows = cursor.fetchall()\n",
    "            columns = [desc[0] for desc in cursor.description]\n",
    "            conn.close()\n",
    "            print(f\"Query returned {len(rows)} rows\")\n",
    "            return rows, columns\n",
    "    except sqlite3.Error as e:\n",
    "        print(f\"Database error: {e}\")\n",
    "        return pd.DataFrame() if return_df else ([], [])"
   ]
  },
  {
   "cell_type": "code",
   "execution_count": 7,
   "id": "d764d3ad",
   "metadata": {},
   "outputs": [
    {
     "name": "stdout",
     "output_type": "stream",
     "text": [
      "Connecting to database: D:\\dev\\stat_656_autotrader\\databases\\assets.db\n",
      "Query returned 5 rows\n"
     ]
    },
    {
     "data": {
      "text/html": [
       "<div>\n",
       "<style scoped>\n",
       "    .dataframe tbody tr th:only-of-type {\n",
       "        vertical-align: middle;\n",
       "    }\n",
       "\n",
       "    .dataframe tbody tr th {\n",
       "        vertical-align: top;\n",
       "    }\n",
       "\n",
       "    .dataframe thead th {\n",
       "        text-align: right;\n",
       "    }\n",
       "</style>\n",
       "<table border=\"1\" class=\"dataframe\">\n",
       "  <thead>\n",
       "    <tr style=\"text-align: right;\">\n",
       "      <th></th>\n",
       "      <th>symbol</th>\n",
       "      <th>name</th>\n",
       "    </tr>\n",
       "  </thead>\n",
       "  <tbody>\n",
       "    <tr>\n",
       "      <th>0</th>\n",
       "      <td>CCLDO</td>\n",
       "      <td>CareCloud, Inc. 8.75% Series B Cumulative Rede...</td>\n",
       "    </tr>\n",
       "    <tr>\n",
       "      <th>1</th>\n",
       "      <td>BHVN</td>\n",
       "      <td>Biohaven Ltd.</td>\n",
       "    </tr>\n",
       "    <tr>\n",
       "      <th>2</th>\n",
       "      <td>ZUMZ</td>\n",
       "      <td>Zumiez Inc. Common Stock</td>\n",
       "    </tr>\n",
       "    <tr>\n",
       "      <th>3</th>\n",
       "      <td>EMR</td>\n",
       "      <td>Emerson Electric Co.</td>\n",
       "    </tr>\n",
       "    <tr>\n",
       "      <th>4</th>\n",
       "      <td>CCL</td>\n",
       "      <td>Carnival Corporation</td>\n",
       "    </tr>\n",
       "  </tbody>\n",
       "</table>\n",
       "</div>"
      ],
      "text/plain": [
       "  symbol                                               name\n",
       "0  CCLDO  CareCloud, Inc. 8.75% Series B Cumulative Rede...\n",
       "1   BHVN                                      Biohaven Ltd.\n",
       "2   ZUMZ                           Zumiez Inc. Common Stock\n",
       "3    EMR                               Emerson Electric Co.\n",
       "4    CCL                               Carnival Corporation"
      ]
     },
     "execution_count": 7,
     "metadata": {},
     "output_type": "execute_result"
    }
   ],
   "source": [
    "# Test with a simple query\n",
    "test_query = \"SELECT symbol, name FROM asset_metadata LIMIT 5\"\n",
    "test_result = execute_sql_query(test_query)\n",
    "test_result"
   ]
  },
  {
   "cell_type": "markdown",
   "id": "1b816658",
   "metadata": {},
   "source": [
    "# Example 1: Fetch All Active Stock Tickers"
   ]
  },
  {
   "cell_type": "code",
   "execution_count": 5,
   "id": "764da467",
   "metadata": {},
   "outputs": [
    {
     "name": "stdout",
     "output_type": "stream",
     "text": [
      "Connecting to database: D:\\dev\\stat_656_autotrader\\databases\\assets.db\n",
      "Query returned 7462 rows\n"
     ]
    },
    {
     "data": {
      "text/html": [
       "<div>\n",
       "<style scoped>\n",
       "    .dataframe tbody tr th:only-of-type {\n",
       "        vertical-align: middle;\n",
       "    }\n",
       "\n",
       "    .dataframe tbody tr th {\n",
       "        vertical-align: top;\n",
       "    }\n",
       "\n",
       "    .dataframe thead th {\n",
       "        text-align: right;\n",
       "    }\n",
       "</style>\n",
       "<table border=\"1\" class=\"dataframe\">\n",
       "  <thead>\n",
       "    <tr style=\"text-align: right;\">\n",
       "      <th></th>\n",
       "      <th>asset_id</th>\n",
       "      <th>symbol</th>\n",
       "      <th>name</th>\n",
       "      <th>exchange</th>\n",
       "    </tr>\n",
       "  </thead>\n",
       "  <tbody>\n",
       "    <tr>\n",
       "      <th>0</th>\n",
       "      <td>7324</td>\n",
       "      <td>A</td>\n",
       "      <td>Agilent Technologies Inc.</td>\n",
       "      <td>NYSE</td>\n",
       "    </tr>\n",
       "    <tr>\n",
       "      <th>1</th>\n",
       "      <td>7247</td>\n",
       "      <td>AA</td>\n",
       "      <td>Alcoa Corporation</td>\n",
       "      <td>NYSE</td>\n",
       "    </tr>\n",
       "  </tbody>\n",
       "</table>\n",
       "</div>"
      ],
      "text/plain": [
       "   asset_id symbol                       name exchange\n",
       "0      7324      A  Agilent Technologies Inc.     NYSE\n",
       "1      7247     AA          Alcoa Corporation     NYSE"
      ]
     },
     "execution_count": 5,
     "metadata": {},
     "output_type": "execute_result"
    }
   ],
   "source": [
    "active_tickers_query = \"\"\"\n",
    "    SELECT asset_id, symbol, name, exchange\n",
    "    FROM asset_metadata\n",
    "    WHERE asset_type = 'us_equity' AND is_active = 1\n",
    "    ORDER BY symbol\n",
    "\"\"\"\n",
    "active_tickers = execute_sql_query(active_tickers_query)\n",
    "active_tickers.head(2)"
   ]
  },
  {
   "cell_type": "code",
   "execution_count": null,
   "id": "82f20e47",
   "metadata": {},
   "outputs": [],
   "source": []
  },
  {
   "cell_type": "markdown",
   "id": "75dea233",
   "metadata": {},
   "source": [
    "# Example 2: Get the Latest Price for Each Stock"
   ]
  },
  {
   "cell_type": "code",
   "execution_count": null,
   "id": "3a91e011",
   "metadata": {},
   "outputs": [
    {
     "name": "stdout",
     "output_type": "stream",
     "text": [
      "Connecting to database: D:\\dev\\stat_656_autotrader\\databases\\assets.db\n"
     ]
    }
   ],
   "source": [
    "latest_prices_query = \"\"\"\n",
    "    SELECT am.symbol, ap.date, ap.close, ap.fetched_at\n",
    "    FROM asset_prices ap\n",
    "    JOIN asset_metadata am ON ap.asset_id = am.asset_id\n",
    "    WHERE am.asset_type = 'Stock' AND am.is_active = 1\n",
    "    AND ap.date = (\n",
    "        SELECT MAX(date)\n",
    "        FROM asset_prices ap2\n",
    "        WHERE ap2.asset_id = ap.asset_id\n",
    "    )\n",
    "    ORDER BY am.symbol\n",
    "\"\"\"\n",
    "latest_prices = execute_sql_query(latest_prices_query)\n",
    "latest_prices.head(2)"
   ]
  },
  {
   "cell_type": "code",
   "execution_count": null,
   "id": "2ccfab8f",
   "metadata": {},
   "outputs": [],
   "source": []
  },
  {
   "cell_type": "code",
   "execution_count": null,
   "id": "3481cd37",
   "metadata": {},
   "outputs": [],
   "source": []
  }
 ],
 "metadata": {
  "kernelspec": {
   "display_name": "autotrader",
   "language": "python",
   "name": "python3"
  },
  "language_info": {
   "codemirror_mode": {
    "name": "ipython",
    "version": 3
   },
   "file_extension": ".py",
   "mimetype": "text/x-python",
   "name": "python",
   "nbconvert_exporter": "python",
   "pygments_lexer": "ipython3",
   "version": "3.11.11"
  }
 },
 "nbformat": 4,
 "nbformat_minor": 5
}
