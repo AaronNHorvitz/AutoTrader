{
 "cells": [
  {
   "cell_type": "code",
   "execution_count": null,
   "id": "e085814b",
   "metadata": {},
   "outputs": [],
   "source": []
  },
  {
   "cell_type": "markdown",
   "id": "0a125927",
   "metadata": {},
   "source": [
    "# Visualize Stock Trends With Intervals"
   ]
  },
  {
   "cell_type": "code",
   "execution_count": null,
   "id": "bdb9a881",
   "metadata": {},
   "outputs": [
    {
     "ename": "ModuleNotFoundError",
     "evalue": "No module named 'src'",
     "output_type": "error",
     "traceback": [
      "\u001b[31m---------------------------------------------------------------------------\u001b[39m",
      "\u001b[31mModuleNotFoundError\u001b[39m                       Traceback (most recent call last)",
      "\u001b[36mCell\u001b[39m\u001b[36m \u001b[39m\u001b[32mIn[1]\u001b[39m\u001b[32m, line 1\u001b[39m\n\u001b[32m----> \u001b[39m\u001b[32m1\u001b[39m \u001b[38;5;28;01mfrom\u001b[39;00m\u001b[38;5;250m \u001b[39m\u001b[34;01msrc\u001b[39;00m\u001b[34;01m.\u001b[39;00m\u001b[34;01mvisualizations\u001b[39;00m\u001b[34;01m.\u001b[39;00m\u001b[34;01mstock_price_trends\u001b[39;00m\u001b[38;5;250m \u001b[39m\u001b[38;5;28;01mimport\u001b[39;00m plot_stock_trends_with_intervals\n",
      "\u001b[31mModuleNotFoundError\u001b[39m: No module named 'src'"
     ]
    }
   ],
   "source": [
    "# Define BASE_DIR and adjust sys.path before importing\n",
    "BASE_DIR = Path(os.getcwd()).parent  # Points to stat_656_autotrader/ from Notebooks/\n",
    "sys.path.append(str(BASE_DIR))\n",
    "print(f\"Project root added to sys.path: {BASE_DIR}\")\n",
    "\n",
    "from src.visualizations.stock_price_trends import plot_stock_trends_with_intervals"
   ]
  },
  {
   "cell_type": "code",
   "execution_count": null,
   "id": "5b62f892",
   "metadata": {},
   "outputs": [],
   "source": [
    "plot_stock_trends_with_intervals(\n",
    "    symbol = 'AAPL',\n",
    "    days_back=150,\n",
    "    smoothing_window=7,\n",
    "    smoother=\"lowess\",\n",
    "    price_type=\"close\",\n",
    "    show_actual_line=False,\n",
    "    calendar_days=False,\n",
    "    ci=95\n",
    "    )"
   ]
  },
  {
   "cell_type": "code",
   "execution_count": null,
   "id": "9677116b",
   "metadata": {},
   "outputs": [],
   "source": []
  }
 ],
 "metadata": {
  "kernelspec": {
   "display_name": "autotrader",
   "language": "python",
   "name": "python3"
  },
  "language_info": {
   "codemirror_mode": {
    "name": "ipython",
    "version": 3
   },
   "file_extension": ".py",
   "mimetype": "text/x-python",
   "name": "python",
   "nbconvert_exporter": "python",
   "pygments_lexer": "ipython3",
   "version": "3.11.11"
  }
 },
 "nbformat": 4,
 "nbformat_minor": 5
}
