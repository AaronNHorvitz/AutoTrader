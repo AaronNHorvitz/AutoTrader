{
 "cells": [
  {
   "cell_type": "markdown",
   "metadata": {},
   "source": [
    "# 002 Create the Stock Prices Database\n",
    "\n",
    "This notebook creates and populates the `assets.db` SQLite database with stock tickers and historical OHLC prices from Alpaca (~175 stocks ~NYSE/NASDAQ/AMEX ~`$0`). It uses utility functions from `src/etl/` (~`populate_tickers.py`, `populate_prices.py`, and `utils.py` ~`$0`) to:\n",
    "- Connect to Alpaca using credentials from `credentials/`.\n",
    "- Populate `asset_metadata` with active, tradable tickers.\n",
    "- Populate `asset_prices` with historical data (~2002 to yesterday ~`$0`) and the latest bars.\n",
    "\n",
    "Progress bars (~via `tqdm` ~`$0`) track each step, and interim print statements are minimized (~focus on timing ~`$0`)."
   ]
  },
  {
   "cell_type": "code",
   "execution_count": null,
   "metadata": {},
   "outputs": [],
   "source": [
    "# Import necessary libraries\n",
    "import sys\n",
    "import time\n",
    "from tqdm.notebook import tqdm\n",
    "\n",
    "# Add project root to sys.path\n",
    "sys.path.append(r\"d:\\dev\\stat_656_autotrader\")\n",
    "\n",
    "# Import credentials and ETL functions\n",
    "from credentials import ALPACA_API_KEY, ALPACA_SECRET_KEY, ALPAKA_ENDPOINT_URL\n",
    "from src.etl import (\n",
    "    ensure_database_exists, populate_tickers, ensure_prices_table_exists,\n",
    "    get_tickers_from_db, populate_historical_prices, update_latest_prices,\n",
    "    connect_to_alpaca\n",
    ")"
   ]
  },
  {
   "cell_type": "code",
   "execution_count": null,
   "metadata": {},
   "outputs": [],
   "source": [
    "# Connect to Alpaca\n",
    "alpaca = connect_to_alpaca(ALPACA_API_KEY, ALPACA_SECRET_KEY, ALPAKA_ENDPOINT_URL)\n",
    "if not alpaca:\n",
    "    raise Exception(\"Failed to connect to Alpaca. Check credentials and network.\")"
   ]
  },
  {
   "cell_type": "code",
   "execution_count": null,
   "metadata": {},
   "outputs": [],
   "source": [
    "# Step 1: Ensure database exists and populate tickers\n",
    "start_time = time.time()\n",
    "with tqdm(total=2, desc=\"Database Setup\", unit=\"step\") as pbar:\n",
    "    ensure_database_exists()\n",
    "    pbar.update(1)\n",
    "    populate_tickers(alpaca)\n",
    "    pbar.update(1)\n",
    "ticker_time = time.time() - start_time"
   ]
  },
  {
   "cell_type": "code",
   "execution_count": null,
   "metadata": {},
   "outputs": [],
   "source": [
    "# Step 2: Populate prices (historical and latest)\n",
    "start_time = time.time()\n",
    "with tqdm(total=3, desc=\"Price Population\", unit=\"step\") as pbar:\n",
    "    ensure_prices_table_exists()\n",
    "    pbar.update(1)\n",
    "    tickers_dict = get_tickers_from_db()\n",
    "    if not tickers_dict:\n",
    "        raise Exception(\"No tickers found in asset_metadata.\")\n",
    "    populate_historical_prices(alpaca, tickers_dict)\n",
    "    pbar.update(1)\n",
    "    update_latest_prices(alpaca, tickers_dict)\n",
    "    pbar.update(1)\n",
    "price_time = time.time() - start_time"
   ]
  },
  {
   "cell_type": "code",
   "execution_count": null,
   "metadata": {},
   "outputs": [],
   "source": [
    "# Display total time taken\n",
    "total_time = ticker_time + price_time\n",
    "print(f\"Database setup completed in {total_time:.2f} seconds.\")\n",
    "print(f\"- Tickers: {ticker_time:.2f} seconds\")\n",
    "print(f\"- Prices: {price_time:.2f} seconds\")"
   ]
  }
 ],
 "metadata": {
  "kernelspec": {
   "display_name": "autotrader",
   "language": "python",
   "name": "autotrader"
  },
  "language_info": {
   "codemirror_mode": {
    "name": "ipython",
    "version": 3
   },
   "file_extension": ".py",
   "mimetype": "text/x-python",
   "name": "python",
   "nbconvert_exporter": "python",
   "pygments_lexer": "ipython3",
   "version": "3.11"
  }
 },
 "nbformat": 4,
 "nbformat_minor": 4
}