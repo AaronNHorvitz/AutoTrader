{
 "cells": [
  {
   "cell_type": "markdown",
   "id": "41c0f98a",
   "metadata": {},
   "source": [
    "# Tests for Randomness"
   ]
  },
  {
   "cell_type": "code",
   "execution_count": 2,
   "id": "48e8b927",
   "metadata": {},
   "outputs": [
    {
     "name": "stdout",
     "output_type": "stream",
     "text": [
      "Project root added to sys.path: d:\\dev\\stat_656_autotrader\n"
     ]
    }
   ],
   "source": [
    "import pandas as pd\n",
    "import sqlite3\n",
    "from datetime import datetime, timedelta  \n",
    "import matplotlib.pyplot as plt\n",
    "import matplotlib.ticker as ticker\n",
    "import numpy as np\n",
    "import statsmodels.api as sm\n",
    "import sys\n",
    "from pathlib import Path\n",
    "import os\n",
    "\n",
    "# Define BASE_DIR and adjust sys.path before importing\n",
    "BASE_DIR = Path(os.getcwd()).parent  # Points to stat_656_autotrader/ from Notebooks/\n",
    "sys.path.append(str(BASE_DIR))\n",
    "print(f\"Project root added to sys.path: {BASE_DIR}\")\n",
    "\n",
    "# Import paths from the config module\n",
    "from src.config import BASE_DIR, DB_DIR\n",
    "from credentials import ALPACA_API_KEY, ALPACA_SECRET_KEY, ALPAKA_ENDPOINT_URL\n",
    "\n",
    "from src.utils.alpaca_utils import connect_to_alpaca, fetch_alpaca_stock_tickers\n",
    "from src.utils.db_utils import get_db_connection, fetch_active_tickers, last_data_date, last_fetch_date, fetch_database_stock_tickers\n",
    "from src.visualizations.stock_price_trends import plot_stock_trends\n",
    "from src.statistics.smoothers import smooth_lowess"
   ]
  },
  {
   "cell_type": "code",
   "execution_count": null,
   "id": "7d7afc28",
   "metadata": {},
   "outputs": [],
   "source": []
  }
 ],
 "metadata": {
  "kernelspec": {
   "display_name": "autotrader",
   "language": "python",
   "name": "python3"
  },
  "language_info": {
   "codemirror_mode": {
    "name": "ipython",
    "version": 3
   },
   "file_extension": ".py",
   "mimetype": "text/x-python",
   "name": "python",
   "nbconvert_exporter": "python",
   "pygments_lexer": "ipython3",
   "version": "3.11.11"
  }
 },
 "nbformat": 4,
 "nbformat_minor": 5
}
