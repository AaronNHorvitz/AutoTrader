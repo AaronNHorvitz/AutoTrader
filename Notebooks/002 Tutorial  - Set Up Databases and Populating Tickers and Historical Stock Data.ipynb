{
 "cells": [
  {
   "cell_type": "code",
   "execution_count": null,
   "metadata": {},
   "outputs": [],
   "source": []
  },
  {
   "cell_type": "markdown",
   "metadata": {},
   "source": [
    "# Set Up Databases and Populating Tickers and Historical Stock Data"
   ]
  },
  {
   "cell_type": "markdown",
   "metadata": {},
   "source": [
    "# 1. Setup & Imports"
   ]
  },
  {
   "cell_type": "code",
   "execution_count": null,
   "metadata": {},
   "outputs": [],
   "source": [
    "import sys\n",
    "import os\n",
    "import sqlite3\n",
    "from pathlib import Path\n",
    "from datetime import datetime, timedelta\n",
    "\n",
    "# Define BASE_DIR and adjust sys.path before importing\n",
    "BASE_DIR = Path(os.getcwd()).parent  # Points to stat_656_autotrader/ from Notebooks/\n",
    "sys.path.append(str(BASE_DIR))\n",
    "print(f\"Project root added to sys.path: {BASE_DIR}\")\n",
    "\n",
    "# Import paths from the config module\n",
    "from src.config import BASE_DIR, DB_DIR\n",
    "\n",
    "from src.db_schema import DATABASES\n",
    "from src.etl.populate_tickers import recreate_database, populate_tickers\n",
    "from src.etl.populate_prices import ensure_prices_table, populate_prices\n",
    "from src.utils.db_utils import fetch_all_asset_metadata, fetch_all_asset_prices"
   ]
  },
  {
   "cell_type": "code",
   "execution_count": null,
   "metadata": {},
   "outputs": [],
   "source": []
  },
  {
   "cell_type": "markdown",
   "metadata": {},
   "source": [
    "# 2. Initialize SQLite Databases"
   ]
  },
  {
   "cell_type": "code",
   "execution_count": null,
   "metadata": {},
   "outputs": [],
   "source": [
    "DB_DIR.mkdir(exist_ok=True)\n",
    "\n",
    "def setup_databases():\n",
    "    \"\"\"Initialize databases and tables based on defined schemas.\"\"\"\n",
    "    for db_name, schemas in DATABASES.items():\n",
    "        db_path = DB_DIR / db_name\n",
    "\n",
    "        try:\n",
    "            with sqlite3.connect(db_path) as conn:\n",
    "                conn.execute(\"PRAGMA foreign_keys = ON;\")\n",
    "                cursor = conn.cursor()\n",
    "                for schema in schemas:\n",
    "                    cursor.execute(schema)\n",
    "                conn.commit()\n",
    "                print(f\"✅ Tables created/verified in '{db_name}'\")\n",
    "        except sqlite3.Error as e:\n",
    "            print(f\"❌ Error setting up '{db_name}': {e}\")\n",
    "\n",
    "# Run database setup\n",
    "setup_databases()"
   ]
  },
  {
   "cell_type": "code",
   "execution_count": null,
   "metadata": {},
   "outputs": [],
   "source": []
  },
  {
   "cell_type": "markdown",
   "metadata": {},
   "source": [
    "# 3. Populate Asset Metadata (Tickers)"
   ]
  },
  {
   "cell_type": "code",
   "execution_count": null,
   "metadata": {},
   "outputs": [],
   "source": [
    "print(\"\\n🔄 Recreating and populating tickers database...\")\n",
    "recreate_database()\n",
    "populate_tickers()\n",
    "print(\"✅ Tickers populated successfully.\")"
   ]
  },
  {
   "cell_type": "code",
   "execution_count": null,
   "metadata": {},
   "outputs": [],
   "source": [
    "# View the asset metadata\n",
    "asset_metadata_df = fetch_all_asset_metadata()\n",
    "\n",
    "print(\"DataFrame shape:\", asset_metadata_df.shape)\n",
    "print(\"DataFrame columns:\", asset_metadata_df.columns.tolist())\n",
    "display(asset_metadata_df.head(20))"
   ]
  },
  {
   "cell_type": "code",
   "execution_count": null,
   "metadata": {},
   "outputs": [],
   "source": [
    "asset_metadata_df['exchange'].unique()"
   ]
  },
  {
   "cell_type": "code",
   "execution_count": null,
   "metadata": {},
   "outputs": [],
   "source": []
  },
  {
   "cell_type": "markdown",
   "metadata": {},
   "source": [
    "# 4. Populate Historical Stock Prices"
   ]
  },
  {
   "cell_type": "code",
   "execution_count": null,
   "metadata": {},
   "outputs": [],
   "source": [
    "# Ensure the historical prices are populated. \n",
    "populate_prices()\n",
    "print(\"✅ Historical stock prices populated successfully.\")"
   ]
  },
  {
   "cell_type": "code",
   "execution_count": null,
   "metadata": {},
   "outputs": [],
   "source": []
  },
  {
   "cell_type": "code",
   "execution_count": null,
   "metadata": {},
   "outputs": [],
   "source": [
    "# Fetch and display the historical prices\n",
    "print(\"\\n📊 Fetching and displaying historical stock prices...\")\n",
    "prices_df = fetch_all_asset_prices()\n",
    "\n",
    "# Display basic info and the first 20 rows\n",
    "print(f\"DataFrame shape: {prices_df.shape}\")\n",
    "print(f\"Columns: {prices_df.columns.tolist()}\")\n",
    "display(prices_df.head(20))"
   ]
  },
  {
   "cell_type": "code",
   "execution_count": null,
   "metadata": {},
   "outputs": [],
   "source": []
  },
  {
   "cell_type": "code",
   "execution_count": null,
   "metadata": {},
   "outputs": [],
   "source": []
  },
  {
   "cell_type": "code",
   "execution_count": null,
   "metadata": {},
   "outputs": [],
   "source": []
  },
  {
   "cell_type": "code",
   "execution_count": null,
   "metadata": {},
   "outputs": [],
   "source": []
  },
  {
   "cell_type": "code",
   "execution_count": null,
   "metadata": {},
   "outputs": [],
   "source": []
  }
 ],
 "metadata": {
  "kernelspec": {
   "display_name": "aaron_dev",
   "language": "python",
   "name": "python3"
  },
  "language_info": {
   "codemirror_mode": {
    "name": "ipython",
    "version": 3
   },
   "file_extension": ".py",
   "mimetype": "text/x-python",
   "name": "python",
   "nbconvert_exporter": "python",
   "pygments_lexer": "ipython3",
   "version": "3.10.16"
  }
 },
 "nbformat": 4,
 "nbformat_minor": 2
}
