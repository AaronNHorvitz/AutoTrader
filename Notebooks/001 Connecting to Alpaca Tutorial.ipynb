{
 "cells": [
  {
   "cell_type": "markdown",
   "metadata": {},
   "source": [
    "# Make sure you Alpaca credentials are being read properly and you are connecting to Alpaca"
   ]
  },
  {
   "cell_type": "code",
   "execution_count": null,
   "metadata": {},
   "outputs": [],
   "source": [
    "# Standard \n",
    "from datetime import datetime, timedelta  # ~Date handling for time ranges\n",
    "import time                              # ~Timing downloads for comparison\n",
    "import sys                               # ~Path manipulation for project imports\n",
    "\n",
    "# Non-standard Libraries \n",
    "import numpy as np                       # ~Numerical operations (~if needed later)\n",
    "import pandas as pd                      # ~DataFrames for HLOC data\n",
    "import yfinance as yf                    # ~yfinance for historical HLOC\n",
    "from tqdm import tqdm                    # ~Progress bar for real-time feedback\n",
    "\n",
    "# Alpaca API\n",
    "from alpaca_trade_api.rest import REST   # ~Alpaca REST client for API calls\n",
    "\n",
    "# Suppress Warnings (~Optional ~Cleaner output)\n",
    "import warnings\n",
    "warnings.filterwarnings(\"ignore\")  # ~Ignore non-critical warnings (~e.g., Pandas)"
   ]
  },
  {
   "cell_type": "markdown",
   "metadata": {},
   "source": [
    "## Read and print your credentials from the .secrets file"
   ]
  },
  {
   "cell_type": "code",
   "execution_count": null,
   "metadata": {},
   "outputs": [],
   "source": [
    "# Project-specific Imports (~Custom to stat_656_autotrader)\n",
    "sys.path.append(\"d:/dev/stat_656_autotrader\")  # ~Add project root to sys.path\n",
    "from credentials import API_KEY, SECRET_KEY, ENDPOINT_URL  # ~Alpaca API credentials\n",
    "\n",
    "#print(f\"API_KEY: {API_KEY}, SECRET_KEY: {SECRET_KEY}, ENDPOINT_URL: {ENDPOINT_URL}\")"
   ]
  },
  {
   "cell_type": "code",
   "execution_count": null,
   "metadata": {},
   "outputs": [],
   "source": []
  },
  {
   "cell_type": "markdown",
   "metadata": {},
   "source": [
    "## Connect to Alpaca"
   ]
  },
  {
   "cell_type": "code",
   "execution_count": null,
   "metadata": {},
   "outputs": [
    {
     "name": "stdout",
     "output_type": "stream",
     "text": [
      "Connected to Alpaca successfully!\n"
     ]
    }
   ],
   "source": [
    "# Initialize Alpaca REST client\n",
    "try:\n",
    "    alpaca = REST(API_KEY, SECRET_KEY, base_url=ENDPOINT_URL)\n",
    "    print(\"Connected to Alpaca successfully!\")\n",
    "\n",
    "except Exception as e:\n",
    "    print(f\"Connection failed: {e}\")"
   ]
  },
  {
   "cell_type": "code",
   "execution_count": null,
   "metadata": {},
   "outputs": [],
   "source": []
  },
  {
   "cell_type": "markdown",
   "metadata": {},
   "source": [
    "## Get a list of all Alpaca stock tickers traded on the NYSE and NASDAQ"
   ]
  },
  {
   "cell_type": "code",
   "execution_count": null,
   "metadata": {},
   "outputs": [
    {
     "name": "stdout",
     "output_type": "stream",
     "text": [
      "Fetched 9717 stock tickers from Alpaca (NASDAQ/NYSE)!\n",
      "First 10 stock tickers: ['AMGP', '464ESC0G8', 'KNL', 'TVPT', '5326esc96', 'SCACU', 'ETP', 'FTIVU', 'VOSOU', 'CVRR']\n"
     ]
    }
   ],
   "source": [
    "# Get all assets and filter to stocks by exchange (NASDAQ, NYSE)\n",
    "assets = alpaca.list_assets(status=None)\n",
    "stock_assets = [asset for asset in assets if asset.exchange in ['NASDAQ', 'NYSE']]\n",
    "stock_tickers = [asset.symbol for asset in stock_assets]\n",
    "print(f\"Fetched {len(stock_tickers)} stock tickers from Alpaca (NASDAQ/NYSE)!\")\n",
    "print(\"First 10 stock tickers:\", stock_tickers[:10])"
   ]
  },
  {
   "cell_type": "code",
   "execution_count": null,
   "metadata": {},
   "outputs": [],
   "source": []
  },
  {
   "cell_type": "markdown",
   "metadata": {},
   "source": [
    "## Test latency and data quality between YFinance vs. Alpaca"
   ]
  },
  {
   "cell_type": "code",
   "execution_count": null,
   "metadata": {},
   "outputs": [],
   "source": [
    "\n"
   ]
  },
  {
   "cell_type": "code",
   "execution_count": 5,
   "metadata": {},
   "outputs": [
    {
     "name": "stdout",
     "output_type": "stream",
     "text": [
      "Date range: 2015-03-24 to 2025-03-21\n"
     ]
    }
   ],
   "source": [
    "# Subset (150 tickers test)\n",
    "subset_tickers = stock_tickers[:150]\n",
    "\n",
    "# Date range \n",
    "years_back = 10  # User can change this\n",
    "end_date = datetime.now().strftime(\"%Y-%m-%d\")\n",
    "start_date = (datetime.now() - timedelta(days=years_back * 365)).strftime(\"%Y-%m-%d\")\n",
    "print(f\"Date range: {start_date} to {end_date}\")"
   ]
  },
  {
   "cell_type": "markdown",
   "metadata": {},
   "source": [
    "### Fetch time for YFinance"
   ]
  },
  {
   "cell_type": "code",
   "execution_count": null,
   "metadata": {},
   "outputs": [
    {
     "ename": "NameError",
     "evalue": "name 'pd' is not defined",
     "output_type": "error",
     "traceback": [
      "\u001b[1;31m---------------------------------------------------------------------------\u001b[0m",
      "\u001b[1;31mNameError\u001b[0m                                 Traceback (most recent call last)",
      "Cell \u001b[1;32mIn[7], line 1\u001b[0m\n\u001b[1;32m----> 1\u001b[0m yfinance_df \u001b[38;5;241m=\u001b[39m \u001b[43mpd\u001b[49m\u001b[38;5;241m.\u001b[39mDataFrame()\n\u001b[0;32m      2\u001b[0m start_time \u001b[38;5;241m=\u001b[39m time\u001b[38;5;241m.\u001b[39mtime()\n\u001b[0;32m      3\u001b[0m yf_missing_data \u001b[38;5;241m=\u001b[39m \u001b[38;5;241m0\u001b[39m\n",
      "\u001b[1;31mNameError\u001b[0m: name 'pd' is not defined"
     ]
    }
   ],
   "source": [
    "yfinance_df = pd.DataFrame()\n",
    "start_time = time.time()\n",
    "yf_missing_data = 0\n",
    "\n",
    "for ticker in tqdm\n",
    "(subset_tickers, desc=\"yfinance Download Progress\"):\n",
    "\n",
    "    # Fetch stock price data from the Yahoo Finance API\n",
    "    stock = yf.Ticker(ticker)\n",
    "    df = stock.history(start=start_date, end=end_date, interval=\"1d\")\n",
    "\n",
    "    if not df.empty:\n",
    "        \n",
    "        # Ensure the pricing data go back far enough. If not, skip the ticker and count it as missing data.\n",
    "        if len(df) < years_back:\n",
    "            yf_missing_data += 1\n",
    "            pass\n",
    "\n",
    "        else:\n",
    "            df = df[['Open', 'High', 'Low', 'Close']].reset_index()\n",
    "            df.columns = ['timestamp', 'open', 'high', 'low', 'close']\n",
    "            df['ticker'] = ticker\n",
    "            df = df[['ticker', 'timestamp', 'open', 'high', 'low', 'close']]\n",
    "            yfinance_df = pd.concat([yfinance_df, df])\n",
    "\n",
    "yfinance_time = time.time() - start_time\n",
    "\n",
    "display(df.head(10))\n",
    "print(f\"yfinance: Fetched {len(yfinance_df)} rows in {yfinance_time:.2f} seconds\")\n",
    "print(\"yfinance Sample:\", yfinance_df.head())\n",
    "print(f\"yfinance: Missing data for {yf_missing_data} tickers.\")\n"
   ]
  },
  {
   "cell_type": "markdown",
   "metadata": {},
   "source": [
    "### Fetch time for Alpaca"
   ]
  },
  {
   "cell_type": "code",
   "execution_count": null,
   "metadata": {},
   "outputs": [],
   "source": [
    "alpaca_df = pd.DataFrame()\n",
    "start_time = time.time()\n",
    "alp_missing_data = 0\n",
    "\n",
    "for ticker in tqdm(subset_tickers, desc=\"Alpaca Download Progress\"):\n",
    "    \n",
    "    # Fetch stock price data from the Alpaca API\n",
    "    bars = alpaca.get_bars(ticker, \"1Day\", start_date, end_date).df\n",
    "\n",
    "    if not bars.empty:\n",
    "        df = bars[['open', 'high', 'low', 'close']].reset_index()\n",
    "\n",
    "        # Ensure the pricing data go back far enough. If not, skip the ticker and count it as missing data.\n",
    "        if len(df) < years_back:\n",
    "            alp_missing_data += 1\n",
    "            pass\n",
    "        \n",
    "        else:\n",
    "            df['ticker'] = ticker\n",
    "            df = df[['ticker', 'timestamp', 'open', 'high', 'low', 'close']]\n",
    "            alpaca_df = pd.concat([alpaca_df, df])\n",
    "    time.sleep(1)  # ~Rate limit (~1 call/sec ~free tier)\n",
    "alpaca_time = time.time() - start_time\n",
    "print(f\"Alpaca: Fetched {len(alpaca_df)} rows in {alpaca_time:.2f} seconds\")\n",
    "print(\"Alpaca Sample:\", alpaca_df.head())\n",
    "print(f\"Alpaca: Missing data for {alp_missing_data} tickers.\")"
   ]
  },
  {
   "cell_type": "markdown",
   "metadata": {},
   "source": []
  },
  {
   "cell_type": "code",
   "execution_count": null,
   "metadata": {},
   "outputs": [],
   "source": [
    "\n"
   ]
  }
 ],
 "metadata": {
  "kernelspec": {
   "display_name": "aaron_dev",
   "language": "python",
   "name": "python3"
  },
  "language_info": {
   "codemirror_mode": {
    "name": "ipython",
    "version": 3
   },
   "file_extension": ".py",
   "mimetype": "text/x-python",
   "name": "python",
   "nbconvert_exporter": "python",
   "pygments_lexer": "ipython3",
   "version": "3.10.8"
  }
 },
 "nbformat": 4,
 "nbformat_minor": 2
}
